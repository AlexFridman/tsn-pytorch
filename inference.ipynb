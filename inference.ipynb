{
 "cells": [
  {
   "cell_type": "code",
   "execution_count": 1,
   "metadata": {
    "ExecuteTime": {
     "end_time": "2017-09-12T16:04:01.595538Z",
     "start_time": "2017-09-12T16:04:01.587707Z"
    },
    "collapsed": true
   },
   "outputs": [],
   "source": [
    "import os\n",
    "import shutil\n",
    "import time\n",
    "\n",
    "from PIL import Image\n",
    "import torch.backends.cudnn as cudnn\n",
    "import torch.nn.parallel\n",
    "import torch.optim\n",
    "from torch.nn.utils import clip_grad_norm\n",
    "\n",
    "from tqdm import tqdm_notebook\n",
    "\n",
    "from dataset import TSNDataSet\n",
    "from models import TSN\n",
    "from opts import parser\n",
    "from transforms import *"
   ]
  },
  {
   "cell_type": "code",
   "execution_count": 2,
   "metadata": {
    "ExecuteTime": {
     "end_time": "2017-09-12T15:40:46.529409Z",
     "start_time": "2017-09-12T15:40:46.524355Z"
    },
    "collapsed": true
   },
   "outputs": [],
   "source": [
    "args_str = \"\"\"ucf101 RGB \\\n",
    "    /media/e/vsd/data/ucf101_preprocessed/split_01/file_lists/train_rgb.txt \\\n",
    "    /media/e/vsd/data/ucf101_preprocessed/split_01/file_lists/test_rgb.txt \\\n",
    "    --arch BNInception --num_segments 3 \\\n",
    "    --gd 20 --lr 0.001 --lr_steps 30 60 --epochs 80 \\\n",
    "    -b 32 -j 4 \\\n",
    "    --snapshot_pref ucf101_bninception_\"\"\"\n",
    "\n",
    "args = parser.parse_args(args_str.split())"
   ]
  },
  {
   "cell_type": "code",
   "execution_count": 2,
   "metadata": {
    "ExecuteTime": {
     "end_time": "2017-09-12T15:40:46.759885Z",
     "start_time": "2017-09-12T15:40:46.712144Z"
    },
    "collapsed": true
   },
   "outputs": [],
   "source": [
    "arch = 'BNInception'\n",
    "batch_size = 4\n",
    "clip_gradient = 20.0\n",
    "consensus_type = 'avg'\n",
    "dataset = 'ucf101'\n",
    "dropout = 0.5\n",
    "epochs = 80\n",
    "eval_freq = 5\n",
    "evaluate = False\n",
    "flow_prefix = ''\n",
    "gpus = None\n",
    "k = 3\n",
    "loss_type = 'nll'\n",
    "lr = 0.001\n",
    "lr_steps = [30.0, 60.0]\n",
    "modality = 'RGB'\n",
    "momentum = 0.9\n",
    "no_partialbn = False\n",
    "num_segments = 3\n",
    "print_freq = 10\n",
    "resume = False\n",
    "snapshot_pref = 'ucf101_bninception_'\n",
    "start_epoch = 0\n",
    "weight_decay = 0.0005\n",
    "workers = 4\n",
    "\n",
    "num_class = 101\n",
    "\n",
    "checkpoint_path = 'ucf101_bninception__rgb_model_best.pth.tar'"
   ]
  },
  {
   "cell_type": "code",
   "execution_count": 3,
   "metadata": {
    "ExecuteTime": {
     "end_time": "2017-09-12T15:40:48.427477Z",
     "start_time": "2017-09-12T15:40:46.984369Z"
    }
   },
   "outputs": [
    {
     "name": "stdout",
     "output_type": "stream",
     "text": [
      "\n",
      "Initializing TSN with base model: BNInception.\n",
      "TSN Configurations:\n",
      "    input_modality:     RGB\n",
      "    num_segments:       3\n",
      "    new_length:         1\n",
      "    consensus_module:   avg\n",
      "    dropout_ratio:      0.5\n",
      "        \n"
     ]
    },
    {
     "name": "stderr",
     "output_type": "stream",
     "text": [
      "/usr/local/lib/python3.5/dist-packages/torch/nn/modules/module.py:360: UserWarning: src is not broadcastable to dst, but they have the same number of elements.  Falling back to deprecated pointwise behavior.\n",
      "  own_state[name].copy_(param)\n"
     ]
    }
   ],
   "source": [
    "model = TSN(num_class, num_segments, modality,\n",
    "                base_model=arch,\n",
    "                consensus_type=consensus_type, dropout=dropout, partial_bn=not no_partialbn)\n",
    "\n",
    "crop_size = model.crop_size\n",
    "scale_size = model.scale_size\n",
    "input_mean = model.input_mean\n",
    "input_std = model.input_std\n",
    "policies = model.get_optim_policies()\n",
    "train_augmentation = model.get_augmentation()\n",
    "\n",
    "model = torch.nn.DataParallel(model, device_ids=gpus).cuda()"
   ]
  },
  {
   "cell_type": "code",
   "execution_count": 4,
   "metadata": {
    "ExecuteTime": {
     "end_time": "2017-09-12T15:40:48.458993Z",
     "start_time": "2017-09-12T15:40:48.428390Z"
    },
    "collapsed": true
   },
   "outputs": [],
   "source": [
    "checkpoint = torch.load(checkpoint_path)\n",
    "model.load_state_dict(checkpoint['state_dict'])"
   ]
  },
  {
   "cell_type": "code",
   "execution_count": 5,
   "metadata": {
    "ExecuteTime": {
     "end_time": "2017-09-12T15:40:49.218499Z",
     "start_time": "2017-09-12T15:40:49.213055Z"
    },
    "collapsed": true
   },
   "outputs": [],
   "source": [
    "# if args.modality != 'RGBDiff':\n",
    "#     normalize = GroupNormalize(input_mean, input_std)\n",
    "# else:\n",
    "#     normalize = IdentityTransform()\n",
    "\n",
    "# if args.modality == 'RGB':\n",
    "#     data_length = 1\n",
    "# elif args.modality in ['Flow', 'RGBDiff']:\n",
    "#     data_length = 5\n",
    "\n",
    "data_length = 1\n",
    "# data_length = 5\n",
    "\n",
    "normalize = IdentityTransform()"
   ]
  },
  {
   "cell_type": "code",
   "execution_count": 9,
   "metadata": {
    "ExecuteTime": {
     "end_time": "2017-09-12T15:58:34.412069Z",
     "start_time": "2017-09-12T15:58:34.402807Z"
    },
    "collapsed": true
   },
   "outputs": [],
   "source": [
    "transform = torchvision.transforms.Compose([\n",
    "                   GroupScale(int(scale_size)),\n",
    "                   GroupCenterCrop(crop_size),\n",
    "                   Stack(roll=arch == 'BNInception'),\n",
    "                   ToTorchFormatTensor(div=arch != 'BNInception'),\n",
    "                   normalize,\n",
    "               ])"
   ]
  },
  {
   "cell_type": "code",
   "execution_count": 13,
   "metadata": {
    "ExecuteTime": {
     "end_time": "2017-09-12T15:58:50.548734Z",
     "start_time": "2017-09-12T15:58:50.543309Z"
    },
    "collapsed": true
   },
   "outputs": [],
   "source": [
    "# val_loader = torch.utils.data.DataLoader(\n",
    "#     TSNDataSet(\"\", val_list, num_segments=num_segments,\n",
    "#                new_length=data_length,\n",
    "#                modality=modality,\n",
    "#                image_tmpl=\"{:04d}.jpg\" if modality in ['RGB', 'RGBDiff'] else \"{:04d}.flo\",\n",
    "#                random_shift=False,\n",
    "#                transform=torchvision.transforms.Compose([\n",
    "#                    GroupScale(int(scale_size)),\n",
    "#                    GroupCenterCrop(crop_size),\n",
    "#                    Stack(roll=arch == 'BNInception'),\n",
    "#                    ToTorchFormatTensor(div=arch != 'BNInception'),\n",
    "#                    normalize,\n",
    "#                ])),\n",
    "#     batch_size=1, shuffle=False,\n",
    "#     num_workers=workers, pin_memory=True)"
   ]
  },
  {
   "cell_type": "code",
   "execution_count": 6,
   "metadata": {
    "ExecuteTime": {
     "end_time": "2017-09-12T15:41:21.634339Z",
     "start_time": "2017-09-12T15:41:21.623267Z"
    }
   },
   "outputs": [
    {
     "name": "stdout",
     "output_type": "stream",
     "text": [
      "Freezing BatchNorm2D except the first one.\n"
     ]
    },
    {
     "data": {
      "text/plain": [
       "DataParallel (\n",
       "  (module): TSN (\n",
       "    (base_model): BNInception (\n",
       "      (conv1_7x7_s2): Conv2d(3, 64, kernel_size=(7, 7), stride=(2, 2), padding=(3, 3))\n",
       "      (conv1_7x7_s2_bn): BatchNorm2d(64, eps=1e-05, momentum=0.1, affine=True)\n",
       "      (conv1_relu_7x7): ReLU (inplace)\n",
       "      (pool1_3x3_s2): MaxPool2d (size=(3, 3), stride=(2, 2), dilation=(1, 1))\n",
       "      (conv2_3x3_reduce): Conv2d(64, 64, kernel_size=(1, 1), stride=(1, 1))\n",
       "      (conv2_3x3_reduce_bn): BatchNorm2d(64, eps=1e-05, momentum=0.1, affine=True)\n",
       "      (conv2_relu_3x3_reduce): ReLU (inplace)\n",
       "      (conv2_3x3): Conv2d(64, 192, kernel_size=(3, 3), stride=(1, 1), padding=(1, 1))\n",
       "      (conv2_3x3_bn): BatchNorm2d(192, eps=1e-05, momentum=0.1, affine=True)\n",
       "      (conv2_relu_3x3): ReLU (inplace)\n",
       "      (pool2_3x3_s2): MaxPool2d (size=(3, 3), stride=(2, 2), dilation=(1, 1))\n",
       "      (inception_3a_1x1): Conv2d(192, 64, kernel_size=(1, 1), stride=(1, 1))\n",
       "      (inception_3a_1x1_bn): BatchNorm2d(64, eps=1e-05, momentum=0.1, affine=True)\n",
       "      (inception_3a_relu_1x1): ReLU (inplace)\n",
       "      (inception_3a_3x3_reduce): Conv2d(192, 64, kernel_size=(1, 1), stride=(1, 1))\n",
       "      (inception_3a_3x3_reduce_bn): BatchNorm2d(64, eps=1e-05, momentum=0.1, affine=True)\n",
       "      (inception_3a_relu_3x3_reduce): ReLU (inplace)\n",
       "      (inception_3a_3x3): Conv2d(64, 64, kernel_size=(3, 3), stride=(1, 1), padding=(1, 1))\n",
       "      (inception_3a_3x3_bn): BatchNorm2d(64, eps=1e-05, momentum=0.1, affine=True)\n",
       "      (inception_3a_relu_3x3): ReLU (inplace)\n",
       "      (inception_3a_double_3x3_reduce): Conv2d(192, 64, kernel_size=(1, 1), stride=(1, 1))\n",
       "      (inception_3a_double_3x3_reduce_bn): BatchNorm2d(64, eps=1e-05, momentum=0.1, affine=True)\n",
       "      (inception_3a_relu_double_3x3_reduce): ReLU (inplace)\n",
       "      (inception_3a_double_3x3_1): Conv2d(64, 96, kernel_size=(3, 3), stride=(1, 1), padding=(1, 1))\n",
       "      (inception_3a_double_3x3_1_bn): BatchNorm2d(96, eps=1e-05, momentum=0.1, affine=True)\n",
       "      (inception_3a_relu_double_3x3_1): ReLU (inplace)\n",
       "      (inception_3a_double_3x3_2): Conv2d(96, 96, kernel_size=(3, 3), stride=(1, 1), padding=(1, 1))\n",
       "      (inception_3a_double_3x3_2_bn): BatchNorm2d(96, eps=1e-05, momentum=0.1, affine=True)\n",
       "      (inception_3a_relu_double_3x3_2): ReLU (inplace)\n",
       "      (inception_3a_pool): AvgPool2d (size=3, stride=1, padding=1, ceil_mode=True, count_include_pad=True)\n",
       "      (inception_3a_pool_proj): Conv2d(192, 32, kernel_size=(1, 1), stride=(1, 1))\n",
       "      (inception_3a_pool_proj_bn): BatchNorm2d(32, eps=1e-05, momentum=0.1, affine=True)\n",
       "      (inception_3a_relu_pool_proj): ReLU (inplace)\n",
       "      (inception_3b_1x1): Conv2d(256, 64, kernel_size=(1, 1), stride=(1, 1))\n",
       "      (inception_3b_1x1_bn): BatchNorm2d(64, eps=1e-05, momentum=0.1, affine=True)\n",
       "      (inception_3b_relu_1x1): ReLU (inplace)\n",
       "      (inception_3b_3x3_reduce): Conv2d(256, 64, kernel_size=(1, 1), stride=(1, 1))\n",
       "      (inception_3b_3x3_reduce_bn): BatchNorm2d(64, eps=1e-05, momentum=0.1, affine=True)\n",
       "      (inception_3b_relu_3x3_reduce): ReLU (inplace)\n",
       "      (inception_3b_3x3): Conv2d(64, 96, kernel_size=(3, 3), stride=(1, 1), padding=(1, 1))\n",
       "      (inception_3b_3x3_bn): BatchNorm2d(96, eps=1e-05, momentum=0.1, affine=True)\n",
       "      (inception_3b_relu_3x3): ReLU (inplace)\n",
       "      (inception_3b_double_3x3_reduce): Conv2d(256, 64, kernel_size=(1, 1), stride=(1, 1))\n",
       "      (inception_3b_double_3x3_reduce_bn): BatchNorm2d(64, eps=1e-05, momentum=0.1, affine=True)\n",
       "      (inception_3b_relu_double_3x3_reduce): ReLU (inplace)\n",
       "      (inception_3b_double_3x3_1): Conv2d(64, 96, kernel_size=(3, 3), stride=(1, 1), padding=(1, 1))\n",
       "      (inception_3b_double_3x3_1_bn): BatchNorm2d(96, eps=1e-05, momentum=0.1, affine=True)\n",
       "      (inception_3b_relu_double_3x3_1): ReLU (inplace)\n",
       "      (inception_3b_double_3x3_2): Conv2d(96, 96, kernel_size=(3, 3), stride=(1, 1), padding=(1, 1))\n",
       "      (inception_3b_double_3x3_2_bn): BatchNorm2d(96, eps=1e-05, momentum=0.1, affine=True)\n",
       "      (inception_3b_relu_double_3x3_2): ReLU (inplace)\n",
       "      (inception_3b_pool): AvgPool2d (size=3, stride=1, padding=1, ceil_mode=True, count_include_pad=True)\n",
       "      (inception_3b_pool_proj): Conv2d(256, 64, kernel_size=(1, 1), stride=(1, 1))\n",
       "      (inception_3b_pool_proj_bn): BatchNorm2d(64, eps=1e-05, momentum=0.1, affine=True)\n",
       "      (inception_3b_relu_pool_proj): ReLU (inplace)\n",
       "      (inception_3c_3x3_reduce): Conv2d(320, 128, kernel_size=(1, 1), stride=(1, 1))\n",
       "      (inception_3c_3x3_reduce_bn): BatchNorm2d(128, eps=1e-05, momentum=0.1, affine=True)\n",
       "      (inception_3c_relu_3x3_reduce): ReLU (inplace)\n",
       "      (inception_3c_3x3): Conv2d(128, 160, kernel_size=(3, 3), stride=(2, 2), padding=(1, 1))\n",
       "      (inception_3c_3x3_bn): BatchNorm2d(160, eps=1e-05, momentum=0.1, affine=True)\n",
       "      (inception_3c_relu_3x3): ReLU (inplace)\n",
       "      (inception_3c_double_3x3_reduce): Conv2d(320, 64, kernel_size=(1, 1), stride=(1, 1))\n",
       "      (inception_3c_double_3x3_reduce_bn): BatchNorm2d(64, eps=1e-05, momentum=0.1, affine=True)\n",
       "      (inception_3c_relu_double_3x3_reduce): ReLU (inplace)\n",
       "      (inception_3c_double_3x3_1): Conv2d(64, 96, kernel_size=(3, 3), stride=(1, 1), padding=(1, 1))\n",
       "      (inception_3c_double_3x3_1_bn): BatchNorm2d(96, eps=1e-05, momentum=0.1, affine=True)\n",
       "      (inception_3c_relu_double_3x3_1): ReLU (inplace)\n",
       "      (inception_3c_double_3x3_2): Conv2d(96, 96, kernel_size=(3, 3), stride=(2, 2), padding=(1, 1))\n",
       "      (inception_3c_double_3x3_2_bn): BatchNorm2d(96, eps=1e-05, momentum=0.1, affine=True)\n",
       "      (inception_3c_relu_double_3x3_2): ReLU (inplace)\n",
       "      (inception_3c_pool): MaxPool2d (size=(3, 3), stride=(2, 2), dilation=(1, 1))\n",
       "      (inception_4a_1x1): Conv2d(576, 224, kernel_size=(1, 1), stride=(1, 1))\n",
       "      (inception_4a_1x1_bn): BatchNorm2d(224, eps=1e-05, momentum=0.1, affine=True)\n",
       "      (inception_4a_relu_1x1): ReLU (inplace)\n",
       "      (inception_4a_3x3_reduce): Conv2d(576, 64, kernel_size=(1, 1), stride=(1, 1))\n",
       "      (inception_4a_3x3_reduce_bn): BatchNorm2d(64, eps=1e-05, momentum=0.1, affine=True)\n",
       "      (inception_4a_relu_3x3_reduce): ReLU (inplace)\n",
       "      (inception_4a_3x3): Conv2d(64, 96, kernel_size=(3, 3), stride=(1, 1), padding=(1, 1))\n",
       "      (inception_4a_3x3_bn): BatchNorm2d(96, eps=1e-05, momentum=0.1, affine=True)\n",
       "      (inception_4a_relu_3x3): ReLU (inplace)\n",
       "      (inception_4a_double_3x3_reduce): Conv2d(576, 96, kernel_size=(1, 1), stride=(1, 1))\n",
       "      (inception_4a_double_3x3_reduce_bn): BatchNorm2d(96, eps=1e-05, momentum=0.1, affine=True)\n",
       "      (inception_4a_relu_double_3x3_reduce): ReLU (inplace)\n",
       "      (inception_4a_double_3x3_1): Conv2d(96, 128, kernel_size=(3, 3), stride=(1, 1), padding=(1, 1))\n",
       "      (inception_4a_double_3x3_1_bn): BatchNorm2d(128, eps=1e-05, momentum=0.1, affine=True)\n",
       "      (inception_4a_relu_double_3x3_1): ReLU (inplace)\n",
       "      (inception_4a_double_3x3_2): Conv2d(128, 128, kernel_size=(3, 3), stride=(1, 1), padding=(1, 1))\n",
       "      (inception_4a_double_3x3_2_bn): BatchNorm2d(128, eps=1e-05, momentum=0.1, affine=True)\n",
       "      (inception_4a_relu_double_3x3_2): ReLU (inplace)\n",
       "      (inception_4a_pool): AvgPool2d (size=3, stride=1, padding=1, ceil_mode=True, count_include_pad=True)\n",
       "      (inception_4a_pool_proj): Conv2d(576, 128, kernel_size=(1, 1), stride=(1, 1))\n",
       "      (inception_4a_pool_proj_bn): BatchNorm2d(128, eps=1e-05, momentum=0.1, affine=True)\n",
       "      (inception_4a_relu_pool_proj): ReLU (inplace)\n",
       "      (inception_4b_1x1): Conv2d(576, 192, kernel_size=(1, 1), stride=(1, 1))\n",
       "      (inception_4b_1x1_bn): BatchNorm2d(192, eps=1e-05, momentum=0.1, affine=True)\n",
       "      (inception_4b_relu_1x1): ReLU (inplace)\n",
       "      (inception_4b_3x3_reduce): Conv2d(576, 96, kernel_size=(1, 1), stride=(1, 1))\n",
       "      (inception_4b_3x3_reduce_bn): BatchNorm2d(96, eps=1e-05, momentum=0.1, affine=True)\n",
       "      (inception_4b_relu_3x3_reduce): ReLU (inplace)\n",
       "      (inception_4b_3x3): Conv2d(96, 128, kernel_size=(3, 3), stride=(1, 1), padding=(1, 1))\n",
       "      (inception_4b_3x3_bn): BatchNorm2d(128, eps=1e-05, momentum=0.1, affine=True)\n",
       "      (inception_4b_relu_3x3): ReLU (inplace)\n",
       "      (inception_4b_double_3x3_reduce): Conv2d(576, 96, kernel_size=(1, 1), stride=(1, 1))\n",
       "      (inception_4b_double_3x3_reduce_bn): BatchNorm2d(96, eps=1e-05, momentum=0.1, affine=True)\n",
       "      (inception_4b_relu_double_3x3_reduce): ReLU (inplace)\n",
       "      (inception_4b_double_3x3_1): Conv2d(96, 128, kernel_size=(3, 3), stride=(1, 1), padding=(1, 1))\n",
       "      (inception_4b_double_3x3_1_bn): BatchNorm2d(128, eps=1e-05, momentum=0.1, affine=True)\n",
       "      (inception_4b_relu_double_3x3_1): ReLU (inplace)\n",
       "      (inception_4b_double_3x3_2): Conv2d(128, 128, kernel_size=(3, 3), stride=(1, 1), padding=(1, 1))\n",
       "      (inception_4b_double_3x3_2_bn): BatchNorm2d(128, eps=1e-05, momentum=0.1, affine=True)\n",
       "      (inception_4b_relu_double_3x3_2): ReLU (inplace)\n",
       "      (inception_4b_pool): AvgPool2d (size=3, stride=1, padding=1, ceil_mode=True, count_include_pad=True)\n",
       "      (inception_4b_pool_proj): Conv2d(576, 128, kernel_size=(1, 1), stride=(1, 1))\n",
       "      (inception_4b_pool_proj_bn): BatchNorm2d(128, eps=1e-05, momentum=0.1, affine=True)\n",
       "      (inception_4b_relu_pool_proj): ReLU (inplace)\n",
       "      (inception_4c_1x1): Conv2d(576, 160, kernel_size=(1, 1), stride=(1, 1))\n",
       "      (inception_4c_1x1_bn): BatchNorm2d(160, eps=1e-05, momentum=0.1, affine=True)\n",
       "      (inception_4c_relu_1x1): ReLU (inplace)\n",
       "      (inception_4c_3x3_reduce): Conv2d(576, 128, kernel_size=(1, 1), stride=(1, 1))\n",
       "      (inception_4c_3x3_reduce_bn): BatchNorm2d(128, eps=1e-05, momentum=0.1, affine=True)\n",
       "      (inception_4c_relu_3x3_reduce): ReLU (inplace)\n",
       "      (inception_4c_3x3): Conv2d(128, 160, kernel_size=(3, 3), stride=(1, 1), padding=(1, 1))\n",
       "      (inception_4c_3x3_bn): BatchNorm2d(160, eps=1e-05, momentum=0.1, affine=True)\n",
       "      (inception_4c_relu_3x3): ReLU (inplace)\n",
       "      (inception_4c_double_3x3_reduce): Conv2d(576, 128, kernel_size=(1, 1), stride=(1, 1))\n",
       "      (inception_4c_double_3x3_reduce_bn): BatchNorm2d(128, eps=1e-05, momentum=0.1, affine=True)\n",
       "      (inception_4c_relu_double_3x3_reduce): ReLU (inplace)\n",
       "      (inception_4c_double_3x3_1): Conv2d(128, 160, kernel_size=(3, 3), stride=(1, 1), padding=(1, 1))\n",
       "      (inception_4c_double_3x3_1_bn): BatchNorm2d(160, eps=1e-05, momentum=0.1, affine=True)\n",
       "      (inception_4c_relu_double_3x3_1): ReLU (inplace)\n",
       "      (inception_4c_double_3x3_2): Conv2d(160, 160, kernel_size=(3, 3), stride=(1, 1), padding=(1, 1))\n",
       "      (inception_4c_double_3x3_2_bn): BatchNorm2d(160, eps=1e-05, momentum=0.1, affine=True)\n",
       "      (inception_4c_relu_double_3x3_2): ReLU (inplace)\n",
       "      (inception_4c_pool): AvgPool2d (size=3, stride=1, padding=1, ceil_mode=True, count_include_pad=True)\n",
       "      (inception_4c_pool_proj): Conv2d(576, 128, kernel_size=(1, 1), stride=(1, 1))\n",
       "      (inception_4c_pool_proj_bn): BatchNorm2d(128, eps=1e-05, momentum=0.1, affine=True)\n",
       "      (inception_4c_relu_pool_proj): ReLU (inplace)\n",
       "      (inception_4d_1x1): Conv2d(608, 96, kernel_size=(1, 1), stride=(1, 1))\n",
       "      (inception_4d_1x1_bn): BatchNorm2d(96, eps=1e-05, momentum=0.1, affine=True)\n",
       "      (inception_4d_relu_1x1): ReLU (inplace)\n",
       "      (inception_4d_3x3_reduce): Conv2d(608, 128, kernel_size=(1, 1), stride=(1, 1))\n",
       "      (inception_4d_3x3_reduce_bn): BatchNorm2d(128, eps=1e-05, momentum=0.1, affine=True)\n",
       "      (inception_4d_relu_3x3_reduce): ReLU (inplace)\n",
       "      (inception_4d_3x3): Conv2d(128, 192, kernel_size=(3, 3), stride=(1, 1), padding=(1, 1))\n",
       "      (inception_4d_3x3_bn): BatchNorm2d(192, eps=1e-05, momentum=0.1, affine=True)\n",
       "      (inception_4d_relu_3x3): ReLU (inplace)\n",
       "      (inception_4d_double_3x3_reduce): Conv2d(608, 160, kernel_size=(1, 1), stride=(1, 1))\n",
       "      (inception_4d_double_3x3_reduce_bn): BatchNorm2d(160, eps=1e-05, momentum=0.1, affine=True)\n",
       "      (inception_4d_relu_double_3x3_reduce): ReLU (inplace)\n",
       "      (inception_4d_double_3x3_1): Conv2d(160, 192, kernel_size=(3, 3), stride=(1, 1), padding=(1, 1))\n",
       "      (inception_4d_double_3x3_1_bn): BatchNorm2d(192, eps=1e-05, momentum=0.1, affine=True)\n",
       "      (inception_4d_relu_double_3x3_1): ReLU (inplace)\n",
       "      (inception_4d_double_3x3_2): Conv2d(192, 192, kernel_size=(3, 3), stride=(1, 1), padding=(1, 1))\n",
       "      (inception_4d_double_3x3_2_bn): BatchNorm2d(192, eps=1e-05, momentum=0.1, affine=True)\n",
       "      (inception_4d_relu_double_3x3_2): ReLU (inplace)\n",
       "      (inception_4d_pool): AvgPool2d (size=3, stride=1, padding=1, ceil_mode=True, count_include_pad=True)\n",
       "      (inception_4d_pool_proj): Conv2d(608, 128, kernel_size=(1, 1), stride=(1, 1))\n",
       "      (inception_4d_pool_proj_bn): BatchNorm2d(128, eps=1e-05, momentum=0.1, affine=True)\n",
       "      (inception_4d_relu_pool_proj): ReLU (inplace)\n",
       "      (inception_4e_3x3_reduce): Conv2d(608, 128, kernel_size=(1, 1), stride=(1, 1))\n",
       "      (inception_4e_3x3_reduce_bn): BatchNorm2d(128, eps=1e-05, momentum=0.1, affine=True)\n",
       "      (inception_4e_relu_3x3_reduce): ReLU (inplace)\n",
       "      (inception_4e_3x3): Conv2d(128, 192, kernel_size=(3, 3), stride=(2, 2), padding=(1, 1))\n",
       "      (inception_4e_3x3_bn): BatchNorm2d(192, eps=1e-05, momentum=0.1, affine=True)\n",
       "      (inception_4e_relu_3x3): ReLU (inplace)\n",
       "      (inception_4e_double_3x3_reduce): Conv2d(608, 192, kernel_size=(1, 1), stride=(1, 1))\n",
       "      (inception_4e_double_3x3_reduce_bn): BatchNorm2d(192, eps=1e-05, momentum=0.1, affine=True)\n",
       "      (inception_4e_relu_double_3x3_reduce): ReLU (inplace)\n",
       "      (inception_4e_double_3x3_1): Conv2d(192, 256, kernel_size=(3, 3), stride=(1, 1), padding=(1, 1))\n",
       "      (inception_4e_double_3x3_1_bn): BatchNorm2d(256, eps=1e-05, momentum=0.1, affine=True)\n",
       "      (inception_4e_relu_double_3x3_1): ReLU (inplace)\n",
       "      (inception_4e_double_3x3_2): Conv2d(256, 256, kernel_size=(3, 3), stride=(2, 2), padding=(1, 1))\n",
       "      (inception_4e_double_3x3_2_bn): BatchNorm2d(256, eps=1e-05, momentum=0.1, affine=True)\n",
       "      (inception_4e_relu_double_3x3_2): ReLU (inplace)\n",
       "      (inception_4e_pool): MaxPool2d (size=(3, 3), stride=(2, 2), dilation=(1, 1))\n",
       "      (inception_5a_1x1): Conv2d(1056, 352, kernel_size=(1, 1), stride=(1, 1))\n",
       "      (inception_5a_1x1_bn): BatchNorm2d(352, eps=1e-05, momentum=0.1, affine=True)\n",
       "      (inception_5a_relu_1x1): ReLU (inplace)\n",
       "      (inception_5a_3x3_reduce): Conv2d(1056, 192, kernel_size=(1, 1), stride=(1, 1))\n",
       "      (inception_5a_3x3_reduce_bn): BatchNorm2d(192, eps=1e-05, momentum=0.1, affine=True)\n",
       "      (inception_5a_relu_3x3_reduce): ReLU (inplace)\n",
       "      (inception_5a_3x3): Conv2d(192, 320, kernel_size=(3, 3), stride=(1, 1), padding=(1, 1))\n",
       "      (inception_5a_3x3_bn): BatchNorm2d(320, eps=1e-05, momentum=0.1, affine=True)\n",
       "      (inception_5a_relu_3x3): ReLU (inplace)\n",
       "      (inception_5a_double_3x3_reduce): Conv2d(1056, 160, kernel_size=(1, 1), stride=(1, 1))\n",
       "      (inception_5a_double_3x3_reduce_bn): BatchNorm2d(160, eps=1e-05, momentum=0.1, affine=True)\n",
       "      (inception_5a_relu_double_3x3_reduce): ReLU (inplace)\n",
       "      (inception_5a_double_3x3_1): Conv2d(160, 224, kernel_size=(3, 3), stride=(1, 1), padding=(1, 1))\n",
       "      (inception_5a_double_3x3_1_bn): BatchNorm2d(224, eps=1e-05, momentum=0.1, affine=True)\n",
       "      (inception_5a_relu_double_3x3_1): ReLU (inplace)\n",
       "      (inception_5a_double_3x3_2): Conv2d(224, 224, kernel_size=(3, 3), stride=(1, 1), padding=(1, 1))\n",
       "      (inception_5a_double_3x3_2_bn): BatchNorm2d(224, eps=1e-05, momentum=0.1, affine=True)\n",
       "      (inception_5a_relu_double_3x3_2): ReLU (inplace)\n",
       "      (inception_5a_pool): AvgPool2d (size=3, stride=1, padding=1, ceil_mode=True, count_include_pad=True)\n",
       "      (inception_5a_pool_proj): Conv2d(1056, 128, kernel_size=(1, 1), stride=(1, 1))\n",
       "      (inception_5a_pool_proj_bn): BatchNorm2d(128, eps=1e-05, momentum=0.1, affine=True)\n",
       "      (inception_5a_relu_pool_proj): ReLU (inplace)\n",
       "      (inception_5b_1x1): Conv2d(1024, 352, kernel_size=(1, 1), stride=(1, 1))\n",
       "      (inception_5b_1x1_bn): BatchNorm2d(352, eps=1e-05, momentum=0.1, affine=True)\n",
       "      (inception_5b_relu_1x1): ReLU (inplace)\n",
       "      (inception_5b_3x3_reduce): Conv2d(1024, 192, kernel_size=(1, 1), stride=(1, 1))\n",
       "      (inception_5b_3x3_reduce_bn): BatchNorm2d(192, eps=1e-05, momentum=0.1, affine=True)\n",
       "      (inception_5b_relu_3x3_reduce): ReLU (inplace)\n",
       "      (inception_5b_3x3): Conv2d(192, 320, kernel_size=(3, 3), stride=(1, 1), padding=(1, 1))\n",
       "      (inception_5b_3x3_bn): BatchNorm2d(320, eps=1e-05, momentum=0.1, affine=True)\n",
       "      (inception_5b_relu_3x3): ReLU (inplace)\n",
       "      (inception_5b_double_3x3_reduce): Conv2d(1024, 192, kernel_size=(1, 1), stride=(1, 1))\n",
       "      (inception_5b_double_3x3_reduce_bn): BatchNorm2d(192, eps=1e-05, momentum=0.1, affine=True)\n",
       "      (inception_5b_relu_double_3x3_reduce): ReLU (inplace)\n",
       "      (inception_5b_double_3x3_1): Conv2d(192, 224, kernel_size=(3, 3), stride=(1, 1), padding=(1, 1))\n",
       "      (inception_5b_double_3x3_1_bn): BatchNorm2d(224, eps=1e-05, momentum=0.1, affine=True)\n",
       "      (inception_5b_relu_double_3x3_1): ReLU (inplace)\n",
       "      (inception_5b_double_3x3_2): Conv2d(224, 224, kernel_size=(3, 3), stride=(1, 1), padding=(1, 1))\n",
       "      (inception_5b_double_3x3_2_bn): BatchNorm2d(224, eps=1e-05, momentum=0.1, affine=True)\n",
       "      (inception_5b_relu_double_3x3_2): ReLU (inplace)\n",
       "      (inception_5b_pool): MaxPool2d (size=(3, 3), stride=(1, 1), padding=(1, 1), dilation=(1, 1))\n",
       "      (inception_5b_pool_proj): Conv2d(1024, 128, kernel_size=(1, 1), stride=(1, 1))\n",
       "      (inception_5b_pool_proj_bn): BatchNorm2d(128, eps=1e-05, momentum=0.1, affine=True)\n",
       "      (inception_5b_relu_pool_proj): ReLU (inplace)\n",
       "      (global_pool): AvgPool2d (size=7, stride=1, padding=0, ceil_mode=True, count_include_pad=True)\n",
       "      (fc): Dropout (p = 0.5)\n",
       "    )\n",
       "    (new_fc): Linear (1024 -> 101)\n",
       "    (consensus): ConsensusModule (\n",
       "    )\n",
       "  )\n",
       ")"
      ]
     },
     "execution_count": 6,
     "metadata": {},
     "output_type": "execute_result"
    }
   ],
   "source": [
    "model.eval()"
   ]
  },
  {
   "cell_type": "code",
   "execution_count": 107,
   "metadata": {
    "collapsed": true
   },
   "outputs": [],
   "source": [
    "def predict_segment(paths):    \n",
    "    imgs = [Image.open(path).convert('RGB') for path in paths]\n",
    "    imgs = transform(imgs)\n",
    "    imgs = imgs.unsqueeze(0)\n",
    "    \n",
    "    input_var = torch.autograd.Variable(imgs, volatile=True)\n",
    "\n",
    "    return model(input_var).cpu().data.numpy()"
   ]
  },
  {
   "cell_type": "code",
   "execution_count": 145,
   "metadata": {
    "collapsed": true
   },
   "outputs": [],
   "source": [
    "def softmax(raw_score, T=1):\n",
    "        exp_s = np.exp((raw_score - raw_score.max(axis=-1)[..., None])*T)\n",
    "        sum_s = exp_s.sum(axis=-1)\n",
    "        return exp_s / sum_s[..., None]\n",
    "\n",
    "def sliding_window_aggregation_func(score, spans=[1, 2, 4, 8, 16], overlap=0.2, norm=True, fps=1):\n",
    "    \"\"\"\n",
    "    This is the aggregation function used for ActivityNet Challenge 2016\n",
    "    :param score:\n",
    "    :param spans:\n",
    "    :param overlap:\n",
    "    :param norm:\n",
    "    :param fps:\n",
    "    :return:\n",
    "    \"\"\"\n",
    "    frm_max = score.max(axis=1)\n",
    "    slide_score = []\n",
    "\n",
    "    def top_k_pool(scores, k):\n",
    "        return np.sort(scores, axis=0)[-k:, :].mean(axis=0)\n",
    "\n",
    "    for t_span in spans:\n",
    "        span = t_span * fps\n",
    "        step = int(np.ceil(span * (1-overlap)))\n",
    "        local_agg = [frm_max[i: i+span].max(axis=0) for i in range(0, frm_max.shape[0], step)]\n",
    "        k = max(15, len(local_agg)/4)\n",
    "        slide_score.append(top_k_pool(np.array(local_agg), k))\n",
    "\n",
    "    out_score = np.mean(slide_score, axis=0)\n",
    "\n",
    "    if norm:\n",
    "        return softmax(out_score)\n",
    "    else:\n",
    "        return out_score\n",
    "        \n",
    "def eval_video(video_path):\n",
    "    segment_duration = 5\n",
    "    fps = 25\n",
    "    cnt_indexer = 1\n",
    "    num_frame_per_segment = 48\n",
    "    frame_cnt = len(os.listdir(video_path))\n",
    "    segment_length = segment_duration * fps\n",
    "    \n",
    "    ticks = np.arange(1, frame_cnt, segment_length)\n",
    "    \n",
    "    preds = {}\n",
    "    \n",
    "    \n",
    "    for start, end in zip(ticks, ticks[1:]):\n",
    "        end = min(int(end + segment_length / 2), frame_cnt)\n",
    "        idxs = np.sort(np.random.choice(np.arange(start, end), num_frame_per_segment, replace=False))\n",
    "\n",
    "        paths = [os.path.join(video_path, '{:04d}.jpg'.format(tick)) for tick in idxs]\n",
    "        scores = predict_segment(paths)\n",
    "        \n",
    "        scores = np.expand_dims(scores, 0)\n",
    "\n",
    "        preds[(start // fps, end // fps)] = sliding_window_aggregation_func(scores)\n",
    "    \n",
    "    return preds\n",
    "    \n",
    "#     step = int((frame_cnt - stack_depth) / (num_frame_per_video - 1))\n",
    "#     if step > 0:\n",
    "#         frame_ticks = list(range(1, min((2 + step * (num_frame_per_video-1)), frame_cnt+1), step))\n",
    "#     else:\n",
    "#         frame_ticks = [1] * num_frame_per_video\n",
    "\n",
    "#     assert(len(frame_ticks) == num_frame_per_video)\n",
    "\n",
    "#     frame_scores = []\n",
    "#     for tick_i, tick_j in zip(frame_ticks, frame_ticks[1:]):\n",
    "#         idxs = np.sort(np.random.choice(np.arange(tick_i, tick_j), 3, replace=False))\n",
    "#         paths = [os.path.join(video_path, '{:04d}.jpg'.format(tick)) for tick in idxs]\n",
    "        \n",
    "#         scores = predict_segment(paths)\n",
    "#         frame_scores.append(scores)\n",
    "\n",
    "#     frame_scores = np.array(frame_scores)\n",
    "#     frame_scores = np.expand_dims(frame_scores, 0)\n",
    "    \n",
    "#     return sliding_window_aggregation_func(frame_scores)"
   ]
  },
  {
   "cell_type": "code",
   "execution_count": 146,
   "metadata": {
    "scrolled": false
   },
   "outputs": [
    {
     "data": {
      "application/vnd.jupyter.widget-view+json": {
       "model_id": "16b29f116c5c472295c623ce930161b7"
      }
     },
     "metadata": {},
     "output_type": "display_data"
    },
    {
     "data": {
      "application/vnd.jupyter.widget-view+json": {
       "model_id": "5dca3f47f2a943c991629e7affa2f939"
      }
     },
     "metadata": {},
     "output_type": "display_data"
    },
    {
     "data": {
      "application/vnd.jupyter.widget-view+json": {
       "model_id": "75521a26faa9438b99e3c674f85e6e32"
      }
     },
     "metadata": {},
     "output_type": "display_data"
    },
    {
     "name": "stdout",
     "output_type": "stream",
     "text": [
      "\n"
     ]
    }
   ],
   "source": [
    "true_prefix = '/data/data/imitations_temp/rgb/'\n",
    "false_prefix = '/data/data/non_violence_temp/rgb/'\n",
    "\n",
    "data = [\n",
    "    [1, true_prefix],\n",
    "    [0, false_prefix]\n",
    "]\n",
    "\n",
    "rows = []\n",
    "\n",
    "for label, prefix in tqdm_notebook(data):\n",
    "    for video_name in tqdm_notebook(os.listdir(prefix), leave=False):\n",
    "        video_path = os.path.join(prefix, video_name)\n",
    "        scores = eval_video(video_path)\n",
    "        \n",
    "        rows.append({\n",
    "            'label': label,\n",
    "            'video': video_name,\n",
    "            'scores': scores\n",
    "        })"
   ]
  },
  {
   "cell_type": "code",
   "execution_count": 147,
   "metadata": {
    "collapsed": true
   },
   "outputs": [],
   "source": [
    "def get_top_5(scores):\n",
    "    top_5_classes = {}\n",
    "    \n",
    "    for ts_mark, scores_ in scores.items():\n",
    "        top_5 = np.argsort(scores_)[::-1][:5]\n",
    "        top_5_classes[ts_mark] = [class_index[c_id] for c_id in top_5]\n",
    "        \n",
    "    return top_5_classes\n",
    "\n",
    "for row in rows:\n",
    "    row['top_5'] = get_top_5(row['scores'])"
   ]
  },
  {
   "cell_type": "code",
   "execution_count": 148,
   "metadata": {
    "scrolled": false
   },
   "outputs": [
    {
     "name": "stdout",
     "output_type": "stream",
     "text": [
      "----------------------------------------\n",
      "IMG_0081 1\n",
      "0 7 ['Skiing', 'ThrowDiscus', 'WallPushups', 'CricketBowling', 'Swing']\n",
      "5 12 ['Skiing', 'ThrowDiscus', 'Swing', 'WallPushups', 'CricketBowling']\n",
      "10 17 ['WallPushups', 'PlayingDhol', 'Swing', 'CricketBowling', 'BabyCrawling']\n",
      "15 21 ['WallPushups', 'CricketBowling', 'MoppingFloor', 'BabyCrawling', 'Skiing']\n",
      "----------------------------------------\n",
      "IMG_0080 1\n",
      "0 7 ['HandstandWalking', 'BabyCrawling', 'CricketBowling', 'Nunchucks', 'SalsaSpin']\n",
      "5 12 ['Nunchucks', 'SalsaSpin', 'CricketBowling', 'Swing', 'BabyCrawling']\n",
      "10 17 ['BabyCrawling', 'SalsaSpin', 'MoppingFloor', 'SoccerJuggling', 'TaiChi']\n",
      "15 22 ['BabyCrawling', 'MoppingFloor', 'WallPushups', 'SalsaSpin', 'TaiChi']\n",
      "20 27 ['BabyCrawling', 'Swing', 'JugglingBalls', 'MoppingFloor', 'Lunges']\n",
      "25 32 ['BabyCrawling', 'MoppingFloor', 'CricketBowling', 'RopeClimbing', 'SoccerJuggling']\n",
      "30 37 ['RopeClimbing', 'Basketball', 'ThrowDiscus', 'Mixing', 'MoppingFloor']\n",
      "35 42 ['SkateBoarding', 'RopeClimbing', 'Basketball', 'HandstandWalking', 'ThrowDiscus']\n",
      "40 47 ['HandstandWalking', 'SkateBoarding', 'ThrowDiscus', 'Lunges', 'SalsaSpin']\n",
      "45 52 ['SalsaSpin', 'TaiChi', 'Nunchucks', 'SkateBoarding', 'Swing']\n",
      "50 57 ['TaiChi', 'MoppingFloor', 'Nunchucks', 'SkateBoarding', 'SalsaSpin']\n",
      "55 60 ['BabyCrawling', 'SoccerJuggling', 'Nunchucks', 'CricketBowling', 'Swing']\n",
      "----------------------------------------\n",
      "IMG_0085 1\n",
      "0 7 ['PizzaTossing', 'BodyWeightSquats', 'WritingOnBoard', 'BrushingTeeth', 'PlayingPiano']\n",
      "5 12 ['WallPushups', 'PizzaTossing', 'HandstandWalking', 'PlayingDhol', 'BodyWeightSquats']\n",
      "10 17 ['WallPushups', 'PizzaTossing', 'ApplyLipstick', 'PlayingFlute', 'ShavingBeard']\n",
      "15 20 ['TaiChi', 'ShavingBeard', 'HandstandWalking', 'CliffDiving', 'Diving']\n",
      "----------------------------------------\n",
      "IMG_0084 1\n",
      "0 7 ['Nunchucks', 'Swing', 'MoppingFloor', 'SoccerJuggling', 'BabyCrawling']\n",
      "5 10 ['Swing', 'WallPushups', 'MoppingFloor', 'RopeClimbing', 'BabyCrawling']\n",
      "----------------------------------------\n",
      "IMG_0086 1\n",
      "0 7 ['JugglingBalls', 'WallPushups', 'PizzaTossing', 'Nunchucks', 'YoYo']\n",
      "5 12 ['JugglingBalls', 'WallPushups', 'TaiChi', 'YoYo', 'PizzaTossing']\n",
      "10 17 ['WallPushups', 'JugglingBalls', 'YoYo', 'WritingOnBoard', 'TaiChi']\n",
      "15 22 ['YoYo', 'Basketball', 'WallPushups', 'PizzaTossing', 'SoccerJuggling']\n",
      "----------------------------------------\n",
      "IMG_0083 1\n",
      "0 7 ['SalsaSpin', 'TaiChi', 'Swing', 'Lunges', 'MoppingFloor']\n",
      "5 12 ['SkateBoarding', 'SalsaSpin', 'TaiChi', 'MoppingFloor', 'PizzaTossing']\n",
      "----------------------------------------\n",
      "IMG_0082 1\n",
      "0 7 ['BabyCrawling', 'PizzaTossing', 'PlayingDhol', 'WallPushups', 'TableTennisShot']\n",
      "5 12 ['PizzaTossing', 'BabyCrawling', 'PlayingDhol', 'PlayingTabla', 'MoppingFloor']\n",
      "10 17 ['PizzaTossing', 'BabyCrawling', 'Basketball', 'PlayingDhol', 'WallPushups']\n",
      "----------------------------------------\n",
      "MVI_2171 0\n",
      "0 7 ['Lunges', 'Swing', 'HandstandWalking', 'GolfSwing', 'SkateBoarding']\n",
      "5 12 ['Lunges', 'Swing', 'HandstandWalking', 'MoppingFloor', 'GolfSwing']\n",
      "10 17 ['Lunges', 'Basketball', 'BandMarching', 'Swing', 'HandstandWalking']\n",
      "15 22 ['Lunges', 'Swing', 'BandMarching', 'PizzaTossing', 'Basketball']\n",
      "20 27 ['Lunges', 'Swing', 'PizzaTossing', 'SkateBoarding', 'MoppingFloor']\n",
      "25 30 ['Lunges', 'Swing', 'SkateBoarding', 'BandMarching', 'HandstandWalking']\n",
      "----------------------------------------\n",
      "MVI_2152 0\n",
      "0 7 ['Swing', 'HandstandWalking', 'Lunges', 'PoleVault', 'PizzaTossing']\n",
      "5 12 ['Swing', 'HandstandWalking', 'Lunges', 'Fencing', 'PizzaTossing']\n",
      "10 17 ['Swing', 'Lunges', 'HandstandWalking', 'PoleVault', 'RopeClimbing']\n",
      "15 22 ['Swing', 'Lunges', 'RopeClimbing', 'HandstandWalking', 'BandMarching']\n",
      "20 27 ['Swing', 'HandstandWalking', 'Lunges', 'PizzaTossing', 'RopeClimbing']\n",
      "----------------------------------------\n",
      "MVI_2166 0\n",
      "0 7 ['PizzaTossing', 'Haircut', 'HandstandWalking', 'BodyWeightSquats', 'Lunges']\n",
      "5 12 ['PizzaTossing', 'BodyWeightSquats', 'Haircut', 'HandstandWalking', 'Lunges']\n",
      "10 17 ['PizzaTossing', 'BodyWeightSquats', 'Haircut', 'HandstandWalking', 'Lunges']\n",
      "15 22 ['PizzaTossing', 'Haircut', 'HandstandWalking', 'BodyWeightSquats', 'Lunges']\n",
      "20 27 ['PizzaTossing', 'Haircut', 'BodyWeightSquats', 'Lunges', 'HandstandWalking']\n",
      "25 30 ['PizzaTossing', 'BodyWeightSquats', 'Haircut', 'MoppingFloor', 'HandstandWalking']\n",
      "----------------------------------------\n",
      "MVI_2153 0\n",
      "0 7 ['Swing', 'HandstandWalking', 'Lunges', 'WalkingWithDog', 'MoppingFloor']\n",
      "5 12 ['Swing', 'HandstandWalking', 'Lunges', 'SalsaSpin', 'MoppingFloor']\n",
      "10 17 ['Swing', 'Lunges', 'HandstandWalking', 'SalsaSpin', 'MoppingFloor']\n",
      "15 22 ['Swing', 'Lunges', 'HandstandWalking', 'MoppingFloor', 'SalsaSpin']\n",
      "20 27 ['Swing', 'Lunges', 'HandstandWalking', 'BabyCrawling', 'SalsaSpin']\n",
      "25 32 ['Swing', 'Lunges', 'HandstandWalking', 'SalsaSpin', 'BenchPress']\n",
      "30 37 ['Swing', 'Lunges', 'HandstandWalking', 'MoppingFloor', 'BabyCrawling']\n",
      "35 42 ['Swing', 'Lunges', 'HandstandWalking', 'MoppingFloor', 'BabyCrawling']\n",
      "40 45 ['Swing', 'Lunges', 'HandstandWalking', 'MoppingFloor', 'SalsaSpin']\n",
      "----------------------------------------\n",
      "MVI_2168 0\n",
      "0 7 ['Lunges', 'BandMarching', 'Swing', 'HandstandWalking', 'PizzaTossing']\n",
      "5 12 ['Lunges', 'HandstandWalking', 'Swing', 'PizzaTossing', 'BandMarching']\n",
      "10 17 ['Lunges', 'PizzaTossing', 'Swing', 'HandstandWalking', 'RopeClimbing']\n",
      "15 22 ['Lunges', 'PizzaTossing', 'Swing', 'HandstandWalking', 'MoppingFloor']\n",
      "20 27 ['Lunges', 'PizzaTossing', 'HandstandWalking', 'Swing', 'MoppingFloor']\n",
      "25 32 ['Lunges', 'HandstandWalking', 'PizzaTossing', 'Swing', 'MoppingFloor']\n",
      "30 37 ['Lunges', 'Swing', 'HandstandWalking', 'SkateBoarding', 'PizzaTossing']\n",
      "35 42 ['Lunges', 'HandstandWalking', 'Swing', 'PizzaTossing', 'SkateBoarding']\n",
      "40 45 ['Lunges', 'Swing', 'HandstandWalking', 'MoppingFloor', 'SkateBoarding']\n",
      "----------------------------------------\n",
      "MVI_2176 0\n",
      "0 7 ['Basketball', 'Lunges', 'HandstandWalking', 'SkateBoarding', 'Swing']\n",
      "5 12 ['Lunges', 'HandstandWalking', 'SkateBoarding', 'RopeClimbing', 'MoppingFloor']\n",
      "10 17 ['Lunges', 'RopeClimbing', 'SkateBoarding', 'BandMarching', 'HandstandWalking']\n",
      "15 22 ['Lunges', 'BandMarching', 'RopeClimbing', 'HandstandWalking', 'Swing']\n",
      "20 27 ['Lunges', 'HandstandWalking', 'BandMarching', 'RopeClimbing', 'Swing']\n",
      "----------------------------------------\n",
      "MVI_2178 0\n",
      "0 7 ['Lunges', 'Basketball', 'HandstandWalking', 'PizzaTossing', 'BandMarching']\n",
      "----------------------------------------\n",
      "MVI_2170 0\n",
      "0 7 ['Lunges', 'BandMarching', 'Swing', 'WalkingWithDog', 'PizzaTossing']\n",
      "5 12 ['Lunges', 'HandstandWalking', 'Swing', 'SkateBoarding', 'PizzaTossing']\n",
      "10 17 ['Lunges', 'HandstandWalking', 'SkateBoarding', 'Swing', 'MoppingFloor']\n",
      "15 22 ['Lunges', 'Basketball', 'Swing', 'SkateBoarding', 'MoppingFloor']\n",
      "20 27 ['Lunges', 'SkateBoarding', 'GolfSwing', 'HandstandWalking', 'Swing']\n",
      "25 30 ['Lunges', 'HandstandWalking', 'Swing', 'SkateBoarding', 'MoppingFloor']\n",
      "----------------------------------------\n",
      "MVI_2155 0\n",
      "0 7 ['Swing', 'HandstandWalking', 'Lunges', 'BabyCrawling', 'MoppingFloor']\n",
      "5 12 ['Swing', 'HandstandWalking', 'Lunges', 'BabyCrawling', 'MoppingFloor']\n",
      "10 17 ['Swing', 'HandstandWalking', 'Lunges', 'BabyCrawling', 'MoppingFloor']\n",
      "15 22 ['Swing', 'HandstandWalking', 'Lunges', 'BabyCrawling', 'MoppingFloor']\n",
      "20 27 ['Swing', 'HandstandWalking', 'Lunges', 'BabyCrawling', 'MoppingFloor']\n",
      "25 32 ['Swing', 'HandstandWalking', 'Lunges', 'BabyCrawling', 'MoppingFloor']\n",
      "30 37 ['Swing', 'HandstandWalking', 'Lunges', 'BabyCrawling', 'MoppingFloor']\n",
      "----------------------------------------\n",
      "MVI_2169 0\n",
      "0 7 ['Lunges', 'Basketball', 'Swing', 'PizzaTossing', 'SkateBoarding']\n",
      "5 12 ['Lunges', 'Basketball', 'Swing', 'HandstandWalking', 'PizzaTossing']\n",
      "10 17 ['Lunges', 'Swing', 'Basketball', 'SkateBoarding', 'HandstandWalking']\n",
      "15 22 ['Basketball', 'Swing', 'SkateBoarding', 'Lunges', 'HandstandWalking']\n",
      "20 27 ['Lunges', 'Swing', 'Basketball', 'HandstandWalking', 'SkateBoarding']\n",
      "25 32 ['Lunges', 'Swing', 'SkateBoarding', 'HandstandWalking', 'Basketball']\n",
      "30 37 ['Lunges', 'PizzaTossing', 'Swing', 'Basketball', 'RopeClimbing']\n",
      "35 41 ['Lunges', 'PizzaTossing', 'SoccerJuggling', 'Swing', 'RopeClimbing']\n",
      "----------------------------------------\n",
      "MVI_2167 0\n",
      "0 7 ['Lunges', 'HandstandWalking', 'Basketball', 'SkateBoarding', 'RopeClimbing']\n",
      "5 12 ['RopeClimbing', 'Lunges', 'HandstandWalking', 'GolfSwing', 'SkateBoarding']\n",
      "10 17 ['RopeClimbing', 'Lunges', 'HandstandWalking', 'MoppingFloor', 'GolfSwing']\n",
      "15 22 ['RopeClimbing', 'Lunges', 'MoppingFloor', 'HandstandWalking', 'Diving']\n",
      "20 27 ['Lunges', 'RopeClimbing', 'HandstandWalking', 'Diving', 'SkateBoarding']\n",
      "25 32 ['Lunges', 'RopeClimbing', 'HandstandWalking', 'SkateBoarding', 'GolfSwing']\n",
      "----------------------------------------\n",
      "MVI_2174 0\n",
      "0 7 ['Lunges', 'Basketball', 'PizzaTossing', 'HandstandWalking', 'SkateBoarding']\n",
      "5 12 ['Lunges', 'HandstandWalking', 'SkateBoarding', 'PizzaTossing', 'Basketball']\n",
      "10 17 ['Lunges', 'SkateBoarding', 'HandstandWalking', 'Basketball', 'PizzaTossing']\n",
      "15 22 ['Lunges', 'BandMarching', 'HandstandWalking', 'Swing', 'PizzaTossing']\n",
      "20 27 ['Lunges', 'HandstandWalking', 'SkateBoarding', 'Swing', 'RopeClimbing']\n",
      "25 30 ['Lunges', 'SkateBoarding', 'Swing', 'HandstandWalking', 'BandMarching']\n",
      "----------------------------------------\n",
      "MVI_2151 0\n",
      "0 7 ['Swing', 'Lunges', 'MoppingFloor', 'HandstandWalking', 'RopeClimbing']\n",
      "5 12 ['Swing', 'Lunges', 'HandstandWalking', 'RopeClimbing', 'HulaHoop']\n",
      "10 17 ['Swing', 'Lunges', 'HulaHoop', 'HandstandWalking', 'HorseRiding']\n",
      "15 22 ['Swing', 'Lunges', 'HulaHoop', 'HorseRiding', 'WalkingWithDog']\n",
      "20 27 ['Swing', 'Lunges', 'BandMarching', 'RopeClimbing', 'HorseRiding']\n",
      "25 31 ['Swing', 'Lunges', 'MoppingFloor', 'HorseRiding', 'Fencing']\n",
      "----------------------------------------\n",
      "MVI_2150 0\n",
      "0 7 ['Swing', 'HandstandWalking', 'BabyCrawling', 'Lunges', 'MoppingFloor']\n",
      "5 12 ['Swing', 'HandstandWalking', 'Lunges', 'BabyCrawling', 'MoppingFloor']\n",
      "10 17 ['Swing', 'Lunges', 'HandstandWalking', 'MoppingFloor', 'PizzaTossing']\n",
      "15 22 ['Swing', 'HandstandWalking', 'Lunges', 'RopeClimbing', 'MoppingFloor']\n",
      "20 27 ['Swing', 'Lunges', 'HandstandWalking', 'SalsaSpin', 'RopeClimbing']\n",
      "25 32 ['Swing', 'HandstandWalking', 'Lunges', 'BabyCrawling', 'BenchPress']\n",
      "30 37 ['Swing', 'HandstandWalking', 'Lunges', 'BabyCrawling', 'SalsaSpin']\n",
      "35 41 ['Swing', 'HandstandWalking', 'Lunges', 'BabyCrawling', 'SalsaSpin']\n",
      "----------------------------------------\n",
      "MVI_2163 0\n",
      "0 7 ['Lunges', 'Swing', 'HandstandWalking', 'MoppingFloor', 'Biking']\n",
      "5 12 ['Swing', 'Lunges', 'HandstandWalking', 'MoppingFloor', 'WalkingWithDog']\n",
      "10 17 ['Swing', 'Lunges', 'HandstandWalking', 'BabyCrawling', 'MoppingFloor']\n",
      "15 22 ['Swing', 'Lunges', 'HandstandWalking', 'BabyCrawling', 'MoppingFloor']\n",
      "20 27 ['BenchPress', 'PoleVault', 'RopeClimbing', 'PushUps', 'MoppingFloor']\n",
      "25 32 ['BenchPress', 'PoleVault', 'RopeClimbing', 'PushUps', 'HandstandWalking']\n",
      "30 37 ['BenchPress', 'PoleVault', 'RopeClimbing', 'BandMarching', 'PushUps']\n",
      "35 42 ['BenchPress', 'PoleVault', 'HandstandWalking', 'PushUps', 'CricketShot']\n",
      "40 47 ['HandstandWalking', 'PushUps', 'Fencing', 'CricketShot', 'BenchPress']\n",
      "45 52 ['PoleVault', 'BenchPress', 'PushUps', 'MoppingFloor', 'Fencing']\n",
      "50 57 ['PoleVault', 'BenchPress', 'HandstandWalking', 'PushUps', 'Fencing']\n",
      "55 62 ['Swing', 'HandstandWalking', 'Lunges', 'SalsaSpin', 'PoleVault']\n",
      "60 67 ['Swing', 'Lunges', 'HandstandWalking', 'PizzaTossing', 'MoppingFloor']\n",
      "----------------------------------------\n",
      "MVI_2177 0\n",
      "0 7 ['Lunges', 'HandstandWalking', 'BandMarching', 'SkateBoarding', 'Basketball']\n",
      "5 12 ['Lunges', 'HandstandWalking', 'SkateBoarding', 'Swing', 'BandMarching']\n",
      "10 17 ['Lunges', 'BandMarching', 'Basketball', 'SkateBoarding', 'Swing']\n",
      "15 22 ['Lunges', 'BandMarching', 'Basketball', 'SkateBoarding', 'GolfSwing']\n",
      "20 27 ['Lunges', 'Basketball', 'SkateBoarding', 'BandMarching', 'WalkingWithDog']\n",
      "----------------------------------------\n",
      "MVI_2165 0\n",
      "0 7 ['Lunges', 'BodyWeightSquats', 'PizzaTossing', 'Drumming', 'BenchPress']\n",
      "5 12 ['Lunges', 'BodyWeightSquats', 'PizzaTossing', 'Drumming', 'BandMarching']\n",
      "10 17 ['Lunges', 'BodyWeightSquats', 'Drumming', 'WallPushups', 'BandMarching']\n",
      "15 22 ['Lunges', 'BodyWeightSquats', 'WallPushups', 'BenchPress', 'BlowDryHair']\n",
      "20 27 ['Lunges', 'BodyWeightSquats', 'BenchPress', 'Drumming', 'BlowDryHair']\n",
      "25 32 ['Lunges', 'BodyWeightSquats', 'Drumming', 'PizzaTossing', 'BenchPress']\n",
      "30 37 ['Lunges', 'Drumming', 'BodyWeightSquats', 'PizzaTossing', 'MoppingFloor']\n",
      "35 42 ['Lunges', 'BodyWeightSquats', 'PizzaTossing', 'Drumming', 'Archery']\n",
      "40 47 ['PizzaTossing', 'Lunges', 'BodyWeightSquats', 'BlowingCandles', 'HandstandWalking']\n",
      "----------------------------------------\n",
      "MVI_2172 0\n",
      "0 7 ['Lunges', 'HandstandWalking', 'SkateBoarding', 'Basketball', 'Swing']\n",
      "5 12 ['Lunges', 'HandstandWalking', 'Diving', 'SkateBoarding', 'Swing']\n",
      "10 17 ['Lunges', 'BandMarching', 'HandstandWalking', 'Swing', 'GolfSwing']\n",
      "15 22 ['Lunges', 'BandMarching', 'HandstandWalking', 'Swing', 'SkateBoarding']\n",
      "20 27 ['Lunges', 'HandstandWalking', 'BandMarching', 'SkateBoarding', 'Fencing']\n",
      "----------------------------------------\n",
      "MVI_2149 0\n",
      "0 7 ['Swing', 'HandstandWalking', 'Lunges', 'MoppingFloor', 'SalsaSpin']\n",
      "5 12 ['Swing', 'HandstandWalking', 'Lunges', 'SalsaSpin', 'MoppingFloor']\n",
      "10 17 ['Swing', 'Lunges', 'HandstandWalking', 'SalsaSpin', 'MoppingFloor']\n",
      "15 22 ['Swing', 'Lunges', 'HandstandWalking', 'BabyCrawling', 'SalsaSpin']\n",
      "20 27 ['Swing', 'Lunges', 'HandstandWalking', 'BabyCrawling', 'SalsaSpin']\n",
      "25 32 ['Swing', 'Lunges', 'HandstandWalking', 'BabyCrawling', 'SalsaSpin']\n",
      "30 36 ['Swing', 'HandstandWalking', 'Lunges', 'BabyCrawling', 'SalsaSpin']\n",
      "----------------------------------------\n",
      "MVI_2175 0\n",
      "0 7 ['Lunges', 'HandstandWalking', 'SkateBoarding', 'Swing', 'BandMarching']\n",
      "5 12 ['Lunges', 'SkateBoarding', 'BandMarching', 'HandstandWalking', 'PizzaTossing']\n",
      "10 17 ['Lunges', 'Swing', 'SkateBoarding', 'BandMarching', 'MoppingFloor']\n",
      "15 22 ['Lunges', 'Swing', 'BandMarching', 'SkateBoarding', 'HandstandWalking']\n",
      "20 27 ['Lunges', 'SkateBoarding', 'HandstandWalking', 'PizzaTossing', 'BandMarching']\n",
      "25 32 ['Lunges', 'SkateBoarding', 'HandstandWalking', 'PizzaTossing', 'BandMarching']\n",
      "30 37 ['Lunges', 'HandstandWalking', 'Basketball', 'SkateBoarding', 'Swing']\n",
      "35 42 ['Lunges', 'HandstandWalking', 'Basketball', 'SkateBoarding', 'Swing']\n",
      "----------------------------------------\n",
      "MVI_2154 0\n",
      "0 7 ['Swing', 'HandstandWalking', 'Lunges', 'MoppingFloor', 'SalsaSpin']\n",
      "5 12 ['HandstandWalking', 'Swing', 'Lunges', 'MoppingFloor', 'BabyCrawling']\n",
      "10 17 ['Swing', 'HandstandWalking', 'Lunges', 'MoppingFloor', 'BabyCrawling']\n",
      "15 22 ['Swing', 'HandstandWalking', 'Lunges', 'MoppingFloor', 'BabyCrawling']\n",
      "20 27 ['HandstandWalking', 'Swing', 'Lunges', 'MoppingFloor', 'BabyCrawling']\n",
      "25 32 ['Swing', 'HandstandWalking', 'Lunges', 'MoppingFloor', 'BabyCrawling']\n",
      "30 37 ['Swing', 'HandstandWalking', 'Lunges', 'MoppingFloor', 'BabyCrawling']\n",
      "35 42 ['Swing', 'HandstandWalking', 'Lunges', 'MoppingFloor', 'BabyCrawling']\n",
      "40 45 ['Swing', 'HandstandWalking', 'Lunges', 'BabyCrawling', 'MoppingFloor']\n",
      "----------------------------------------\n",
      "MVI_2164 0\n",
      "0 7 ['Swing', 'HandstandWalking', 'Lunges', 'BabyCrawling', 'MoppingFloor']\n",
      "5 12 ['Swing', 'HandstandWalking', 'Lunges', 'BabyCrawling', 'MoppingFloor']\n",
      "10 17 ['Swing', 'HandstandWalking', 'Lunges', 'BabyCrawling', 'Biking']\n",
      "15 22 ['Swing', 'Lunges', 'HandstandWalking', 'Biking', 'MoppingFloor']\n",
      "20 27 ['Swing', 'Lunges', 'HandstandWalking', 'BenchPress', 'MoppingFloor']\n",
      "25 32 ['Swing', 'Lunges', 'MoppingFloor', 'HandstandWalking', 'Diving']\n",
      "30 37 ['HandstandWalking', 'Swing', 'MoppingFloor', 'RopeClimbing', 'BenchPress']\n",
      "35 42 ['BenchPress', 'PushUps', 'PoleVault', 'Fencing', 'HandstandWalking']\n",
      "40 47 ['BenchPress', 'PushUps', 'Fencing', 'PoleVault', 'BasketballDunk']\n",
      "45 52 ['BenchPress', 'PushUps', 'PoleVault', 'BabyCrawling', 'RopeClimbing']\n",
      "50 57 ['BenchPress', 'PushUps', 'PoleVault', 'RopeClimbing', 'HandstandWalking']\n",
      "55 62 ['BenchPress', 'PushUps', 'PoleVault', 'RopeClimbing', 'BabyCrawling']\n",
      "----------------------------------------\n",
      "MVI_2173 0\n",
      "0 7 ['Lunges', 'BandMarching', 'Fencing', 'Swing', 'HandstandWalking']\n",
      "5 12 ['Lunges', 'SkateBoarding', 'HandstandWalking', 'BandMarching', 'PizzaTossing']\n",
      "10 17 ['Lunges', 'SkateBoarding', 'Swing', 'Basketball', 'BandMarching']\n",
      "15 22 ['Lunges', 'Swing', 'BandMarching', 'Basketball', 'SkateBoarding']\n",
      "20 27 ['Lunges', 'BandMarching', 'Swing', 'Basketball', 'MoppingFloor']\n",
      "25 32 ['Lunges', 'Swing', 'Basketball', 'SkateBoarding', 'PizzaTossing']\n",
      "30 37 ['SkateBoarding', 'Lunges', 'Basketball', 'PizzaTossing', 'BandMarching']\n"
     ]
    }
   ],
   "source": [
    "for row in rows:\n",
    "    print('-' * 40)\n",
    "    print(row['video'], row['label'])\n",
    "    \n",
    "    for (ts1, ts2), top_5 in sorted(row['top_5'].items()):\n",
    "        print(ts1, ts2, top_5)"
   ]
  },
  {
   "cell_type": "code",
   "execution_count": 124,
   "metadata": {
    "collapsed": true
   },
   "outputs": [],
   "source": [
    "true_prefix = '/data/data/imitations_temp/rgb/'\n",
    "false_prefix = '/data/data/non_violence_temp/rgb/'\n",
    "\n",
    "val_list = generate_video_list(true_prefix, false_prefix)\n",
    "\n",
    "ds = TSNDataSet(\"\", 'val_list.txt', num_segments=num_segments,\n",
    "                   new_length=data_length,\n",
    "                   modality=modality,\n",
    "                   image_tmpl=\"{:04d}.jpg\" if modality in ['RGB', 'RGBDiff'] else \"{:04d}.flo\",\n",
    "                   random_shift=False,\n",
    "                   test_mode=True,\n",
    "                   transform=torchvision.transforms.Compose([\n",
    "                       GroupScale(int(scale_size)),\n",
    "                       GroupCenterCrop(crop_size),\n",
    "                       Stack(roll=arch == 'BNInception'),\n",
    "                       ToTorchFormatTensor(div=arch != 'BNInception'),\n",
    "                       normalize,\n",
    "                   ]))"
   ]
  },
  {
   "cell_type": "code",
   "execution_count": 31,
   "metadata": {
    "ExecuteTime": {
     "end_time": "2017-09-12T15:38:32.616865Z",
     "start_time": "2017-09-12T15:38:32.613360Z"
    },
    "collapsed": true
   },
   "outputs": [],
   "source": [
    "criterion = torch.nn.CrossEntropyLoss().cuda()"
   ]
  },
  {
   "cell_type": "code",
   "execution_count": 32,
   "metadata": {
    "ExecuteTime": {
     "end_time": "2017-09-12T17:08:25.504721Z",
     "start_time": "2017-09-12T17:08:25.463035Z"
    },
    "collapsed": true
   },
   "outputs": [],
   "source": [
    "SEGMENT_TIME = 9\n",
    "SEQ_LENGTH = 25\n",
    "FPS = 25\n",
    "\n",
    "def split_frames(frames):\n",
    "    def chunks(l, n):\n",
    "        \"\"\"Yield successive n-sized chunks from l.\"\"\"\n",
    "        for i in range(0, len(l), n):\n",
    "            yield l[i:i + n]\n",
    "\n",
    "    n_frames = len(frames)\n",
    "    segment_length = FPS * SEGMENT_TIME\n",
    "\n",
    "    for i, chunk in enumerate(chunks(frames, segment_length)):\n",
    "        if len(chunk) != segment_length:\n",
    "            times = segment_length // len(chunk)\n",
    "            yield (chunk * times + chunk[:segment_length - len(chunk) * times],\n",
    "                   i * SEGMENT_TIME, (i + 1) * SEGMENT_TIME)\n",
    "        else:\n",
    "            yield chunk, i * SEGMENT_TIME, (i + 1) * SEGMENT_TIME\n",
    "        \n",
    "        \n",
    "def get_rgb_frames(rgb_frames_path):\n",
    "    import glob\n",
    "    \n",
    "    return list(sorted(glob.glob(rgb_frames_path + '/' + '*jpg')))\n",
    "\n",
    "def load_segment(frames):\n",
    "    return [Image.open(frame).convert('RGB') for frame in frames]\n",
    "\n",
    "def make_prediction_on_segment(segment):\n",
    "    images = load_segment(segment)\n",
    "    images = transform(images)\n",
    "    images = images.unsqueeze(0)\n",
    "    \n",
    "    input_var = torch.autograd.Variable(images, volatile=True)\n",
    "    \n",
    "    output = model(input_var)\n",
    "    \n",
    "    _, pred = output.mean(dim=0).topk(5)\n",
    "    return pred.cpu().data.numpy()\n",
    "\n",
    "def build_class_index():\n",
    "    return {i: class_ for i, class_ in enumerate(sorted(os.listdir('/data/data/ucf101/UCF-101/')))}"
   ]
  },
  {
   "cell_type": "code",
   "execution_count": 33,
   "metadata": {
    "ExecuteTime": {
     "end_time": "2017-09-12T17:08:25.730109Z",
     "start_time": "2017-09-12T17:08:25.725122Z"
    },
    "collapsed": true
   },
   "outputs": [],
   "source": [
    "class_index = build_class_index()"
   ]
  },
  {
   "cell_type": "code",
   "execution_count": 34,
   "metadata": {},
   "outputs": [
    {
     "data": {
      "text/plain": [
       "101"
      ]
     },
     "execution_count": 34,
     "metadata": {},
     "output_type": "execute_result"
    }
   ],
   "source": [
    "len(class_index)"
   ]
  },
  {
   "cell_type": "code",
   "execution_count": 35,
   "metadata": {
    "collapsed": true
   },
   "outputs": [],
   "source": [
    "from dataset import TSNDataSet"
   ]
  },
  {
   "cell_type": "code",
   "execution_count": 36,
   "metadata": {
    "collapsed": true
   },
   "outputs": [],
   "source": [
    "def generate_video_list(true_prefix, false_prefix):\n",
    "    def get_files(prefix, label):\n",
    "        files = []\n",
    "        for file in sorted(os.listdir(prefix)):\n",
    "            path = os.path.join(prefix, file)\n",
    "            num_frames = len(os.listdir(path))\n",
    "            file_line = '{} {} {}'.format(path, num_frames, label)\n",
    "\n",
    "            files.append(file_line)\n",
    "            \n",
    "        return files\n",
    "    \n",
    "    files = get_files(false_prefix, 0) + get_files(true_prefix, 1)\n",
    "        \n",
    "    with open('val_list.txt', 'w+') as f:\n",
    "        f.write('\\n'.join(files))\n",
    "        \n",
    "    return files"
   ]
  },
  {
   "cell_type": "code",
   "execution_count": 37,
   "metadata": {},
   "outputs": [
    {
     "name": "stdout",
     "output_type": "stream",
     "text": [
      "torch.Size([9, 224, 224])\n",
      "torch.Size([9, 224, 224])\n",
      "torch.Size([9, 224, 224])\n",
      "torch.Size([9, 224, 224])\n",
      "torch.Size([9, 224, 224])\n",
      "torch.Size([9, 224, 224])\n",
      "torch.Size([9, 224, 224])\n",
      "torch.Size([9, 224, 224])\n",
      "torch.Size([9, 224, 224])\n",
      "torch.Size([9, 224, 224])\n",
      "torch.Size([9, 224, 224])\n",
      "torch.Size([9, 224, 224])\n",
      "torch.Size([9, 224, 224])\n",
      "torch.Size([9, 224, 224])\n",
      "torch.Size([9, 224, 224])\n",
      "torch.Size([9, 224, 224])\n",
      "torch.Size([9, 224, 224])\n",
      "torch.Size([9, 224, 224])\n",
      "torch.Size([9, 224, 224])\n",
      "torch.Size([9, 224, 224])\n",
      "torch.Size([9, 224, 224])\n",
      "torch.Size([9, 224, 224])\n",
      "torch.Size([9, 224, 224])\n",
      "torch.Size([9, 224, 224])\n",
      "torch.Size([9, 224, 224])\n",
      "torch.Size([9, 224, 224])\n",
      "torch.Size([9, 224, 224])\n",
      "torch.Size([9, 224, 224])\n",
      "torch.Size([9, 224, 224])\n",
      "torch.Size([9, 224, 224])\n"
     ]
    }
   ],
   "source": [
    "rows = []\n",
    "\n",
    "for (video, label), video_info in zip(ds, val_list):\n",
    "    input_var = torch.autograd.Variable(video, volatile=True)\n",
    "    print(input_var.size())\n",
    "    output = model(input_var)\n",
    "\n",
    "    _, top_5_pred = output.mean(dim=0).topk(5)\n",
    "    probs = output.mean(dim=0)\n",
    "    top_5_pred = top_5_pred.cpu().data.numpy()\n",
    "    probs = probs.cpu().data.numpy()\n",
    "    \n",
    "    rows.append({\n",
    "        'label': label,\n",
    "        'top_5': top_5_pred,\n",
    "        'probs': probs\n",
    "    })"
   ]
  },
  {
   "cell_type": "code",
   "execution_count": 104,
   "metadata": {
    "collapsed": true,
    "scrolled": true
   },
   "outputs": [],
   "source": [
    "import pandas as pd"
   ]
  },
  {
   "cell_type": "code",
   "execution_count": 105,
   "metadata": {
    "collapsed": true
   },
   "outputs": [],
   "source": [
    "df = pd.DataFrame(rows)"
   ]
  },
  {
   "cell_type": "code",
   "execution_count": 116,
   "metadata": {
    "collapsed": true
   },
   "outputs": [],
   "source": [
    "TARGET_CLASSES = [\n",
    "    'BoxingPunchingBag',\n",
    "     'BoxingSpeedBag',\n",
    "     'Fencing',\n",
    "     'GolfSwing',\n",
    "     'Hammering',\n",
    "     'PullUps',\n",
    "     'PushUps',\n",
    "     'SumoWrestling',\n",
    "     'Swing',\n",
    "     'WallPushups',\n",
    "]\n",
    "\n",
    "TARGET_CLASSES = list(sorted(TARGET_CLASSES))\n",
    "\n",
    "reverse_index = {c: i for i, c in class_index.items()}\n",
    "\n",
    "OTHER_CLASSES = [c for c in sorted(reverse_index) if c not in TARGET_CLASSES]\n",
    "\n",
    "target_idxs = [reverse_index[c] for c in TARGET_CLASSES]\n",
    "other_idxs = [reverse_index[c] for c in OTHER_CLASSES]"
   ]
  },
  {
   "cell_type": "code",
   "execution_count": 117,
   "metadata": {
    "collapsed": true
   },
   "outputs": [],
   "source": [
    "df['target_probs'] = df['probs'].map(lambda x: x[target_idxs])\n",
    "df['other_probs'] = df['probs'].map(lambda x: x[other_idxs])"
   ]
  },
  {
   "cell_type": "code",
   "execution_count": 118,
   "metadata": {},
   "outputs": [
    {
     "data": {
      "text/plain": [
       "array([  6.70999861,  -2.96474648,   4.11006355,  -2.08382916,\n",
       "         2.504632  ,  -2.22515535,   0.55434322,  -2.17256522,\n",
       "        17.27012825,   1.09243584], dtype=float32)"
      ]
     },
     "execution_count": 118,
     "metadata": {},
     "output_type": "execute_result"
    }
   ],
   "source": [
    "df.target_probs.values[0]"
   ]
  },
  {
   "cell_type": "code",
   "execution_count": 58,
   "metadata": {},
   "outputs": [
    {
     "data": {
      "application/vnd.jupyter.widget-view+json": {
       "model_id": "7e91c2c84ea44aba9d6b309c552e0649"
      }
     },
     "metadata": {},
     "output_type": "display_data"
    },
    {
     "name": "stdout",
     "output_type": "stream",
     "text": [
      "########################################\n",
      "IMG_0081\n",
      "----------------------------------------\n"
     ]
    },
    {
     "data": {
      "application/vnd.jupyter.widget-view+json": {
       "model_id": "a113f3b6c3004ff4b31aa349b4637491"
      }
     },
     "metadata": {},
     "output_type": "display_data"
    },
    {
     "name": "stdout",
     "output_type": "stream",
     "text": [
      "0 9 ['Skiing', 'WallPushups', 'ThrowDiscus', 'Swing', 'RopeClimbing']\n",
      "9 18 ['WallPushups', 'CricketBowling', 'BabyCrawling', 'Biking', 'RopeClimbing']\n",
      "18 27 ['WallPushups', 'BabyCrawling', 'SoccerJuggling', 'PlayingDhol', 'ThrowDiscus']\n",
      "########################################\n",
      "IMG_0080\n",
      "----------------------------------------\n"
     ]
    },
    {
     "data": {
      "application/vnd.jupyter.widget-view+json": {
       "model_id": "5adf4b1398bd4db79f60b765549ad766"
      }
     },
     "metadata": {},
     "output_type": "display_data"
    },
    {
     "name": "stdout",
     "output_type": "stream",
     "text": [
      "0 9 ['CricketBowling', 'BabyCrawling', 'SoccerJuggling', 'Swing', 'HandstandWalking']\n",
      "9 18 ['SalsaSpin', 'SoccerJuggling', 'MoppingFloor', 'BabyCrawling', 'TaiChi']\n",
      "18 27 ['BabyCrawling', 'MoppingFloor', 'SoccerJuggling', 'WallPushups', 'PizzaTossing']\n",
      "27 36 ['RopeClimbing', 'SkateBoarding', 'MoppingFloor', 'ThrowDiscus', 'Basketball']\n",
      "36 45 ['ThrowDiscus', 'SkateBoarding', 'HandstandWalking', 'Basketball', 'MoppingFloor']\n",
      "45 54 ['TaiChi', 'SkateBoarding', 'MoppingFloor', 'SalsaSpin', 'SoccerJuggling']\n",
      "54 63 ['MoppingFloor', 'Nunchucks', 'SoccerJuggling', 'WalkingWithDog', 'ThrowDiscus']\n",
      "########################################\n",
      "IMG_0085\n",
      "----------------------------------------\n"
     ]
    },
    {
     "data": {
      "application/vnd.jupyter.widget-view+json": {
       "model_id": "47236a3e05cd447c80c43dd86ebb7974"
      }
     },
     "metadata": {},
     "output_type": "display_data"
    },
    {
     "name": "stdout",
     "output_type": "stream",
     "text": [
      "0 9 ['PizzaTossing', 'BodyWeightSquats', 'MoppingFloor', 'PlayingDhol', 'WallPushups']\n",
      "9 18 ['ShavingBeard', 'PizzaTossing', 'JugglingBalls', 'WallPushups', 'BlowDryHair']\n",
      "18 27 ['ShavingBeard', 'PizzaTossing', 'Lunges', 'ApplyLipstick', 'TaiChi']\n",
      "########################################\n",
      "IMG_0084\n",
      "----------------------------------------\n"
     ]
    },
    {
     "data": {
      "application/vnd.jupyter.widget-view+json": {
       "model_id": "9a79c548eb68411e90f6b965c20d643c"
      }
     },
     "metadata": {},
     "output_type": "display_data"
    },
    {
     "name": "stdout",
     "output_type": "stream",
     "text": [
      "0 9 ['Swing', 'MoppingFloor', 'SoccerJuggling', 'WallPushups', 'Nunchucks']\n",
      "9 18 ['Swing', 'Lunges', 'PizzaTossing', 'WallPushups', 'RopeClimbing']\n",
      "########################################\n",
      "IMG_0086\n",
      "----------------------------------------\n"
     ]
    },
    {
     "data": {
      "application/vnd.jupyter.widget-view+json": {
       "model_id": "16c44f193fe9475cb058db19e1979732"
      }
     },
     "metadata": {},
     "output_type": "display_data"
    },
    {
     "name": "stdout",
     "output_type": "stream",
     "text": [
      "0 9 ['JugglingBalls', 'WallPushups', 'PizzaTossing', 'SoccerJuggling', 'JumpingJack']\n",
      "9 18 ['YoYo', 'JugglingBalls', 'Basketball', 'PizzaTossing', 'WallPushups']\n",
      "18 27 ['WallPushups', 'BoxingPunchingBag', 'Lunges', 'WritingOnBoard', 'PizzaTossing']\n",
      "########################################\n",
      "IMG_0083\n",
      "----------------------------------------\n"
     ]
    },
    {
     "data": {
      "application/vnd.jupyter.widget-view+json": {
       "model_id": "e687d4b691404695bad45e056a38b07b"
      }
     },
     "metadata": {},
     "output_type": "display_data"
    },
    {
     "name": "stdout",
     "output_type": "stream",
     "text": [
      "0 9 ['SalsaSpin', 'Lunges', 'MoppingFloor', 'Swing', 'TaiChi']\n",
      "9 18 ['MoppingFloor', 'TaiChi', 'SkateBoarding', 'BoxingPunchingBag', 'SalsaSpin']\n",
      "########################################\n",
      "IMG_0082\n",
      "----------------------------------------\n"
     ]
    },
    {
     "data": {
      "application/vnd.jupyter.widget-view+json": {
       "model_id": "cdef0fe4a85b4c69a02eda7c7f0c486e"
      }
     },
     "metadata": {},
     "output_type": "display_data"
    },
    {
     "name": "stdout",
     "output_type": "stream",
     "text": [
      "0 9 ['PizzaTossing', 'BabyCrawling', 'PlayingDhol', 'WallPushups', 'SoccerJuggling']\n",
      "9 18 ['PizzaTossing', 'Basketball', 'BabyCrawling', 'SoccerJuggling', 'WallPushups']\n",
      "18 27 ['Basketball', 'RopeClimbing', 'PizzaTossing', 'PlayingDhol', 'BabyCrawling']\n",
      "\n"
     ]
    }
   ],
   "source": [
    "rgb_frames_prefix = '/data/data/imitations_temp/rgb/'\n",
    "\n",
    "for video_name in tqdm_notebook(os.listdir(rgb_frames_prefix)):\n",
    "    video_path = os.path.join(rgb_frames_prefix, video_name)\n",
    "    frames = get_rgb_frames(video_path)\n",
    "    print('#' * 40)\n",
    "    print(video_name)\n",
    "    print('-' * 40)\n",
    "    preds = {}\n",
    "    for segment, start_time, end_time in tqdm_notebook(split_frames(frames), leave=False):\n",
    "        pred = [class_index[int(class_id)] for class_id in make_prediction_on_segment(segment)]\n",
    "        preds[(start_time, end_time)] = pred\n",
    "        \n",
    "        print(start_time, end_time, pred)"
   ]
  },
  {
   "cell_type": "code",
   "execution_count": 52,
   "metadata": {
    "ExecuteTime": {
     "end_time": "2017-09-12T17:08:26.002882Z",
     "start_time": "2017-09-12T17:08:25.993818Z"
    },
    "scrolled": false
   },
   "outputs": [
    {
     "data": {
      "application/vnd.jupyter.widget-view+json": {
       "model_id": "37f3b874f2884efcadf3063e110cd42d"
      }
     },
     "metadata": {},
     "output_type": "display_data"
    },
    {
     "name": "stdout",
     "output_type": "stream",
     "text": [
      "########################################\n",
      "wetransfer-892ef3\n",
      "----------------------------------------\n"
     ]
    },
    {
     "data": {
      "application/vnd.jupyter.widget-view+json": {
       "model_id": "18d7e77001bb4f51b6aed3b75299b3ea"
      }
     },
     "metadata": {},
     "output_type": "display_data"
    },
    {
     "name": "stdout",
     "output_type": "stream",
     "text": [
      "########################################\n",
      "MVI_2171\n",
      "----------------------------------------\n"
     ]
    },
    {
     "data": {
      "application/vnd.jupyter.widget-view+json": {
       "model_id": "13ec431a868a49c38273ff7608c9fc8a"
      }
     },
     "metadata": {},
     "output_type": "display_data"
    },
    {
     "name": "stdout",
     "output_type": "stream",
     "text": [
      "0 3 ['Lunges', 'HandstandWalking', 'Swing', 'BandMarching', 'MoppingFloor']\n",
      "3 6 ['Lunges', 'Swing', 'HandstandWalking', 'SkateBoarding', 'BandMarching']\n",
      "6 9 ['Lunges', 'SkateBoarding', 'Swing', 'HandstandWalking', 'GolfSwing']\n",
      "9 12 ['Lunges', 'Swing', 'HandstandWalking', 'Basketball', 'SkateBoarding']\n",
      "12 15 ['Lunges', 'HandstandWalking', 'Swing', 'SkateBoarding', 'Basketball']\n",
      "\n",
      "15 18 ['Lunges', 'Swing', 'SkateBoarding', 'HandstandWalking', 'Basketball']\n",
      "18 21 ['Lunges', 'Swing', 'PizzaTossing', 'BandMarching', 'SkateBoarding']\n",
      "21 24 ['Lunges', 'Swing', 'PizzaTossing', 'SkateBoarding', 'MoppingFloor']\n",
      "24 27 ['Lunges', 'Swing', 'PizzaTossing', 'HandstandWalking', 'SkateBoarding']\n",
      "27 30 ['Lunges', 'Swing', 'HandstandWalking', 'PizzaTossing', 'SkateBoarding']\n",
      "30 33 ['Lunges', 'SkateBoarding', 'BandMarching', 'Swing', 'PizzaTossing']\n",
      "########################################\n",
      "MVI_2152\n",
      "----------------------------------------\n"
     ]
    },
    {
     "data": {
      "application/vnd.jupyter.widget-view+json": {
       "model_id": "a771f0a66fc74f47b9a479545f1e31ed"
      }
     },
     "metadata": {},
     "output_type": "display_data"
    },
    {
     "name": "stdout",
     "output_type": "stream",
     "text": [
      "0 3 ['Swing', 'Lunges', 'HandstandWalking', 'PoleVault', 'PizzaTossing']\n",
      "3 6 ['Swing', 'HandstandWalking', 'Lunges', 'PoleVault', 'Fencing']\n",
      "6 9 ['Swing', 'HandstandWalking', 'Lunges', 'Fencing', 'PoleVault']\n",
      "9 12 ['Swing', 'HandstandWalking', 'Lunges', 'PizzaTossing', 'PoleVault']\n",
      "12 15 ['Swing', 'Lunges', 'HandstandWalking', 'PoleVault', 'BenchPress']\n",
      "15 18 ['Swing', 'Lunges', 'RopeClimbing', 'HandstandWalking', 'PizzaTossing']\n",
      "18 21 ['Swing', 'HandstandWalking', 'Lunges', 'PizzaTossing', 'MoppingFloor']\n",
      "21 24 ['Swing', 'HandstandWalking', 'Lunges', 'RopeClimbing', 'MoppingFloor']\n",
      "24 27 ['Swing', 'HandstandWalking', 'Lunges', 'MoppingFloor', 'PizzaTossing']\n",
      "27 30 ['Swing', 'HandstandWalking', 'Lunges', 'MoppingFloor', 'PizzaTossing']\n",
      "########################################\n",
      "MVI_2166\n",
      "----------------------------------------\n"
     ]
    },
    {
     "data": {
      "application/vnd.jupyter.widget-view+json": {
       "model_id": "c002cfdb1521458fa4b490c2b2e840e7"
      }
     },
     "metadata": {},
     "output_type": "display_data"
    },
    {
     "name": "stdout",
     "output_type": "stream",
     "text": [
      "0 3 ['PizzaTossing', 'Haircut', 'BodyWeightSquats', 'HandstandWalking', 'Lunges']\n",
      "3 6 ['PizzaTossing', 'Haircut', 'HandstandWalking', 'BodyWeightSquats', 'Lunges']\n",
      "6 9 ['PizzaTossing', 'Haircut', 'HandstandWalking', 'BodyWeightSquats', 'Lunges']\n",
      "9 12 ['PizzaTossing', 'Haircut', 'BodyWeightSquats', 'HandstandWalking', 'Lunges']\n",
      "12 15 ['PizzaTossing', 'Haircut', 'HandstandWalking', 'BodyWeightSquats', 'Lunges']\n",
      "15 18 ['PizzaTossing', 'Haircut', 'HandstandWalking', 'BodyWeightSquats', 'Lunges']\n",
      "18 21 ['PizzaTossing', 'Haircut', 'HandstandWalking', 'BodyWeightSquats', 'Lunges']\n",
      "21 24 ['PizzaTossing', 'Haircut', 'BodyWeightSquats', 'HandstandWalking', 'Lunges']\n",
      "24 27 ['PizzaTossing', 'Haircut', 'HandstandWalking', 'BodyWeightSquats', 'Lunges']\n",
      "27 30 ['PizzaTossing', 'Haircut', 'BodyWeightSquats', 'Lunges', 'HandstandWalking']\n",
      "30 33 ['PizzaTossing', 'BodyWeightSquats', 'MoppingFloor', 'Haircut', 'Lunges']\n",
      "########################################\n",
      "MVI_2153\n",
      "----------------------------------------\n"
     ]
    },
    {
     "data": {
      "application/vnd.jupyter.widget-view+json": {
       "model_id": "c63f86bbdd6a4afdbffe6fc44d28a16c"
      }
     },
     "metadata": {},
     "output_type": "display_data"
    },
    {
     "name": "stdout",
     "output_type": "stream",
     "text": [
      "0 3 ['Swing', 'HandstandWalking', 'Lunges', 'JumpRope', 'MoppingFloor']\n",
      "3 6 ['Swing', 'HandstandWalking', 'Lunges', 'WalkingWithDog', 'MoppingFloor']\n",
      "6 9 ['Swing', 'Lunges', 'HandstandWalking', 'MoppingFloor', 'SalsaSpin']\n",
      "9 12 ['Swing', 'Lunges', 'HandstandWalking', 'MoppingFloor', 'SalsaSpin']\n",
      "12 15 ['Swing', 'Lunges', 'HandstandWalking', 'MoppingFloor', 'SalsaSpin']\n",
      "15 18 ['Swing', 'Lunges', 'HandstandWalking', 'SalsaSpin', 'MoppingFloor']\n",
      "18 21 ['Swing', 'Lunges', 'HandstandWalking', 'MoppingFloor', 'BenchPress']\n",
      "21 24 ['Swing', 'Lunges', 'HandstandWalking', 'MoppingFloor', 'BabyCrawling']\n",
      "24 27 ['Swing', 'Lunges', 'HandstandWalking', 'SalsaSpin', 'MoppingFloor']\n",
      "27 30 ['Swing', 'Lunges', 'HandstandWalking', 'SalsaSpin', 'MoppingFloor']\n",
      "30 33 ['Swing', 'HandstandWalking', 'Lunges', 'MoppingFloor', 'Biking']\n",
      "33 36 ['Swing', 'HandstandWalking', 'Lunges', 'MoppingFloor', 'SalsaSpin']\n",
      "36 39 ['Swing', 'Lunges', 'HandstandWalking', 'MoppingFloor', 'BabyCrawling']\n",
      "39 42 ['Swing', 'Lunges', 'HandstandWalking', 'MoppingFloor', 'SalsaSpin']\n",
      "42 45 ['Swing', 'HandstandWalking', 'Lunges', 'MoppingFloor', 'SalsaSpin']\n",
      "45 48 ['Swing', 'Lunges', 'HandstandWalking', 'MoppingFloor', 'SalsaSpin']\n",
      "########################################\n",
      "MVI_2168\n",
      "----------------------------------------\n"
     ]
    },
    {
     "data": {
      "application/vnd.jupyter.widget-view+json": {
       "model_id": "5b5d551cd38048fe9cac61a5070a9b97"
      }
     },
     "metadata": {},
     "output_type": "display_data"
    },
    {
     "name": "stdout",
     "output_type": "stream",
     "text": [
      "0 3 ['BandMarching', 'Lunges', 'Swing', 'MoppingFloor', 'MilitaryParade']\n",
      "3 6 ['Lunges', 'BandMarching', 'Swing', 'MoppingFloor', 'HandstandWalking']\n",
      "6 9 ['Lunges', 'Swing', 'HandstandWalking', 'PizzaTossing', 'BandMarching']\n",
      "9 12 ['Lunges', 'PizzaTossing', 'HandstandWalking', 'Swing', 'RopeClimbing']\n",
      "12 15 ['Lunges', 'PizzaTossing', 'Swing', 'HandstandWalking', 'RopeClimbing']\n",
      "15 18 ['Lunges', 'PizzaTossing', 'Swing', 'HandstandWalking', 'RopeClimbing']\n",
      "18 21 ['Lunges', 'PizzaTossing', 'Swing', 'HandstandWalking', 'MoppingFloor']\n",
      "21 24 ['Lunges', 'PizzaTossing', 'HandstandWalking', 'Swing', 'MoppingFloor']\n",
      "24 27 ['Lunges', 'HandstandWalking', 'Swing', 'MoppingFloor', 'RopeClimbing']\n",
      "27 30 ['Lunges', 'HandstandWalking', 'PizzaTossing', 'MoppingFloor', 'Swing']\n",
      "30 33 ['Lunges', 'PizzaTossing', 'Swing', 'HandstandWalking', 'MoppingFloor']\n",
      "33 36 ['Lunges', 'HandstandWalking', 'SkateBoarding', 'MoppingFloor', 'PizzaTossing']\n",
      "36 39 ['Lunges', 'HandstandWalking', 'MoppingFloor', 'SkateBoarding', 'Swing']\n",
      "39 42 ['Lunges', 'HandstandWalking', 'Swing', 'MoppingFloor', 'SkateBoarding']\n",
      "42 45 ['Lunges', 'Swing', 'HandstandWalking', 'MoppingFloor', 'SkateBoarding']\n",
      "45 48 ['Lunges', 'Swing', 'MoppingFloor', 'HandstandWalking', 'PizzaTossing']\n",
      "########################################\n",
      "MVI_2176\n",
      "----------------------------------------\n"
     ]
    },
    {
     "data": {
      "application/vnd.jupyter.widget-view+json": {
       "model_id": "ee65e413b3324d40a0f690b228eeb5c3"
      }
     },
     "metadata": {},
     "output_type": "display_data"
    },
    {
     "name": "stdout",
     "output_type": "stream",
     "text": [
      "0 3 ['Lunges', 'HandstandWalking', 'SkateBoarding', 'Basketball', 'Swing']\n",
      "3 6 ['Lunges', 'HandstandWalking', 'SkateBoarding', 'Swing', 'Basketball']\n",
      "6 9 ['Lunges', 'HandstandWalking', 'SkateBoarding', 'Diving', 'Swing']\n",
      "9 12 ['Lunges', 'HandstandWalking', 'SkateBoarding', 'MoppingFloor', 'Swing']\n",
      "12 15 ['Lunges', 'RopeClimbing', 'Swing', 'MoppingFloor', 'BandMarching']\n",
      "15 18 ['Lunges', 'RopeClimbing', 'BandMarching', 'MoppingFloor', 'Swing']\n",
      "18 21 ['Lunges', 'RopeClimbing', 'HandstandWalking', 'SkateBoarding', 'BandMarching']\n",
      "21 24 ['Lunges', 'RopeClimbing', 'HandstandWalking', 'SkateBoarding', 'BandMarching']\n",
      "24 27 ['Lunges', 'HandstandWalking', 'Swing', 'PizzaTossing', 'RopeClimbing']\n",
      "27 30 ['Lunges', 'HandstandWalking', 'Swing', 'Basketball', 'MoppingFloor']\n",
      "########################################\n",
      "MVI_2178\n",
      "----------------------------------------\n"
     ]
    },
    {
     "data": {
      "application/vnd.jupyter.widget-view+json": {
       "model_id": "234bdb348d59480abd2cc7b8baeebfc7"
      }
     },
     "metadata": {},
     "output_type": "display_data"
    },
    {
     "name": "stdout",
     "output_type": "stream",
     "text": [
      "0 3 ['Lunges', 'HandstandWalking', 'Basketball', 'BandMarching', 'GolfSwing']\n",
      "3 6 ['Lunges', 'Basketball', 'HandstandWalking', 'SkateBoarding', 'PizzaTossing']\n",
      "6 9 ['Lunges', 'Basketball', 'HandstandWalking', 'SkateBoarding', 'GolfSwing']\n",
      "########################################\n",
      "MVI_2170\n",
      "----------------------------------------\n"
     ]
    },
    {
     "data": {
      "application/vnd.jupyter.widget-view+json": {
       "model_id": "a4bff7d9895a4da7adbb641a02b7a187"
      }
     },
     "metadata": {},
     "output_type": "display_data"
    },
    {
     "name": "stdout",
     "output_type": "stream",
     "text": [
      "0 3 ['Lunges', 'RopeClimbing', 'Swing', 'BandMarching', 'Basketball']\n",
      "3 6 ['Lunges', 'RopeClimbing', 'SkateBoarding', 'Swing', 'HandstandWalking']\n",
      "6 9 ['Lunges', 'HandstandWalking', 'Swing', 'SkateBoarding', 'MoppingFloor']\n",
      "9 12 ['Lunges', 'HandstandWalking', 'SkateBoarding', 'PizzaTossing', 'Swing']\n",
      "12 15 ['Lunges', 'Swing', 'HandstandWalking', 'MoppingFloor', 'SkateBoarding']\n",
      "15 18 ['Lunges', 'Swing', 'MoppingFloor', 'SkateBoarding', 'BandMarching']\n",
      "18 21 ['Lunges', 'MoppingFloor', 'Swing', 'SkateBoarding', 'HandstandWalking']\n",
      "21 24 ['Lunges', 'Swing', 'Basketball', 'SkateBoarding', 'MoppingFloor']\n",
      "24 27 ['Lunges', 'HandstandWalking', 'SkateBoarding', 'Swing', 'MoppingFloor']\n",
      "27 30 ['Lunges', 'HandstandWalking', 'SkateBoarding', 'MoppingFloor', 'Swing']\n",
      "30 33 ['Lunges', 'HandstandWalking', 'SkateBoarding', 'MoppingFloor', 'Biking']\n",
      "########################################\n",
      "wetransfer-2b16e2\n",
      "----------------------------------------\n"
     ]
    },
    {
     "data": {
      "application/vnd.jupyter.widget-view+json": {
       "model_id": "03b134465ce94cada65e4ad7547ae71d"
      }
     },
     "metadata": {},
     "output_type": "display_data"
    },
    {
     "name": "stdout",
     "output_type": "stream",
     "text": [
      "########################################\n",
      "MVI_2155\n",
      "----------------------------------------\n"
     ]
    },
    {
     "data": {
      "application/vnd.jupyter.widget-view+json": {
       "model_id": "ccae2b2fe180491ca9cb7511aebf00e0"
      }
     },
     "metadata": {},
     "output_type": "display_data"
    },
    {
     "name": "stdout",
     "output_type": "stream",
     "text": [
      "0 3 ['Swing', 'HandstandWalking', 'Lunges', 'BabyCrawling', 'MoppingFloor']\n",
      "3 6 ['Swing', 'HandstandWalking', 'Lunges', 'BabyCrawling', 'MoppingFloor']\n",
      "6 9 ['Swing', 'HandstandWalking', 'Lunges', 'BabyCrawling', 'MoppingFloor']\n",
      "9 12 ['Swing', 'HandstandWalking', 'Lunges', 'BabyCrawling', 'MoppingFloor']\n",
      "12 15 ['Swing', 'HandstandWalking', 'Lunges', 'BabyCrawling', 'MoppingFloor']\n",
      "15 18 ['Swing', 'HandstandWalking', 'Lunges', 'BabyCrawling', 'MoppingFloor']\n",
      "18 21 ['Swing', 'HandstandWalking', 'Lunges', 'BabyCrawling', 'MoppingFloor']\n",
      "21 24 ['Swing', 'HandstandWalking', 'Lunges', 'BabyCrawling', 'MoppingFloor']\n",
      "24 27 ['Swing', 'HandstandWalking', 'Lunges', 'BabyCrawling', 'MoppingFloor']\n",
      "27 30 ['Swing', 'HandstandWalking', 'Lunges', 'BabyCrawling', 'MoppingFloor']\n",
      "30 33 ['Swing', 'HandstandWalking', 'Lunges', 'BabyCrawling', 'MoppingFloor']\n",
      "33 36 ['Swing', 'HandstandWalking', 'Lunges', 'BabyCrawling', 'MoppingFloor']\n",
      "36 39 ['Swing', 'HandstandWalking', 'Lunges', 'BabyCrawling', 'MoppingFloor']\n",
      "39 42 ['Swing', 'HandstandWalking', 'Lunges', 'MoppingFloor', 'BabyCrawling']\n",
      "########################################\n",
      "wetransfer-ffd931\n",
      "----------------------------------------\n"
     ]
    },
    {
     "data": {
      "application/vnd.jupyter.widget-view+json": {
       "model_id": "5a8ec6080ffc4d2c8cb042ac67f3dbad"
      }
     },
     "metadata": {},
     "output_type": "display_data"
    },
    {
     "name": "stdout",
     "output_type": "stream",
     "text": [
      "########################################\n",
      "MVI_2169\n",
      "----------------------------------------\n"
     ]
    },
    {
     "data": {
      "application/vnd.jupyter.widget-view+json": {
       "model_id": "35588457a87c4fdbad2cb00c79d58d49"
      }
     },
     "metadata": {},
     "output_type": "display_data"
    },
    {
     "name": "stdout",
     "output_type": "stream",
     "text": [
      "0 3 ['Swing', 'Lunges', 'Basketball', 'SkateBoarding', 'MoppingFloor']\n",
      "3 6 ['Lunges', 'Basketball', 'Swing', 'SkateBoarding', 'PizzaTossing']\n",
      "6 9 ['Lunges', 'Basketball', 'SkateBoarding', 'Swing', 'HandstandWalking']\n",
      "9 12 ['Lunges', 'SkateBoarding', 'Basketball', 'Swing', 'HandstandWalking']\n",
      "12 15 ['Lunges', 'Swing', 'HandstandWalking', 'SkateBoarding', 'Basketball']\n",
      "15 18 ['Basketball', 'SkateBoarding', 'Lunges', 'HandstandWalking', 'Swing']\n",
      "18 21 ['Basketball', 'Swing', 'SkateBoarding', 'Lunges', 'HandstandWalking']\n",
      "21 24 ['Swing', 'Basketball', 'Lunges', 'SkateBoarding', 'HandstandWalking']\n",
      "24 27 ['Lunges', 'Swing', 'HandstandWalking', 'Basketball', 'MoppingFloor']\n",
      "27 30 ['Lunges', 'Swing', 'Basketball', 'MoppingFloor', 'SkateBoarding']\n",
      "30 33 ['Lunges', 'Swing', 'SkateBoarding', 'Basketball', 'MoppingFloor']\n",
      "33 36 ['Lunges', 'Basketball', 'RopeClimbing', 'Swing', 'MoppingFloor']\n",
      "36 39 ['Lunges', 'Swing', 'RopeClimbing', 'PizzaTossing', 'MoppingFloor']\n",
      "39 42 ['Lunges', 'PizzaTossing', 'Swing', 'BandMarching', 'SoccerJuggling']\n",
      "########################################\n",
      "MVI_2167\n",
      "----------------------------------------\n"
     ]
    },
    {
     "data": {
      "application/vnd.jupyter.widget-view+json": {
       "model_id": "c0e69f5078d7453ea31921d0e6d1aee7"
      }
     },
     "metadata": {},
     "output_type": "display_data"
    },
    {
     "name": "stdout",
     "output_type": "stream",
     "text": [
      "0 3 ['Lunges', 'HandstandWalking', 'SkateBoarding', 'RopeClimbing', 'Diving']\n",
      "3 6 ['Lunges', 'HandstandWalking', 'SkateBoarding', 'RopeClimbing', 'Diving']\n",
      "6 9 ['Lunges', 'HandstandWalking', 'SkateBoarding', 'Diving', 'RopeClimbing']\n",
      "9 12 ['Lunges', 'HandstandWalking', 'RopeClimbing', 'SkateBoarding', 'MoppingFloor']\n",
      "12 15 ['RopeClimbing', 'Lunges', 'MoppingFloor', 'HandstandWalking', 'GolfSwing']\n",
      "15 18 ['RopeClimbing', 'Lunges', 'HandstandWalking', 'MoppingFloor', 'SkateBoarding']\n",
      "18 21 ['Lunges', 'RopeClimbing', 'MoppingFloor', 'Diving', 'HandstandWalking']\n",
      "21 24 ['Lunges', 'RopeClimbing', 'Diving', 'SkateBoarding', 'HandstandWalking']\n",
      "24 27 ['Lunges', 'RopeClimbing', 'SkateBoarding', 'Diving', 'HandstandWalking']\n",
      "27 30 ['Lunges', 'SkateBoarding', 'HandstandWalking', 'Diving', 'RopeClimbing']\n",
      "30 33 ['SkateBoarding', 'Lunges', 'PizzaTossing', 'HandstandWalking', 'GolfSwing']\n",
      "########################################\n",
      "MVI_2174\n",
      "----------------------------------------\n"
     ]
    },
    {
     "data": {
      "application/vnd.jupyter.widget-view+json": {
       "model_id": "d0ab02c81de74f7e9eb0ef44a6c73389"
      }
     },
     "metadata": {},
     "output_type": "display_data"
    },
    {
     "name": "stdout",
     "output_type": "stream",
     "text": [
      "0 3 ['Lunges', 'SkateBoarding', 'Basketball', 'HandstandWalking', 'PizzaTossing']\n",
      "3 6 ['Lunges', 'HandstandWalking', 'SkateBoarding', 'Basketball', 'Swing']\n",
      "6 9 ['Lunges', 'HandstandWalking', 'SkateBoarding', 'PizzaTossing', 'Basketball']\n",
      "9 12 ['Lunges', 'HandstandWalking', 'SkateBoarding', 'Basketball', 'MoppingFloor']\n",
      "12 15 ['Lunges', 'SkateBoarding', 'HandstandWalking', 'Basketball', 'MoppingFloor']\n",
      "15 18 ['Lunges', 'SkateBoarding', 'HandstandWalking', 'Basketball', 'Swing']\n",
      "18 21 ['Lunges', 'BandMarching', 'Swing', 'MoppingFloor', 'SkateBoarding']\n",
      "21 24 ['Lunges', 'HandstandWalking', 'SkateBoarding', 'MoppingFloor', 'Basketball']\n",
      "24 27 ['Lunges', 'SkateBoarding', 'Swing', 'HandstandWalking', 'PizzaTossing']\n",
      "27 30 ['Lunges', 'SkateBoarding', 'Swing', 'HandstandWalking', 'BandMarching']\n",
      "30 33 ['Lunges', 'MoppingFloor', 'SkateBoarding', 'BandMarching', 'HandstandWalking']\n",
      "########################################\n",
      "MVI_2151\n",
      "----------------------------------------\n"
     ]
    },
    {
     "data": {
      "application/vnd.jupyter.widget-view+json": {
       "model_id": "d976ab52777a4670bf34181267eead42"
      }
     },
     "metadata": {},
     "output_type": "display_data"
    },
    {
     "name": "stdout",
     "output_type": "stream",
     "text": [
      "0 3 ['Lunges', 'Swing', 'MoppingFloor', 'HandstandWalking', 'RopeClimbing']\n",
      "3 6 ['Swing', 'Lunges', 'HandstandWalking', 'MoppingFloor', 'RopeClimbing']\n",
      "6 9 ['Swing', 'Lunges', 'HandstandWalking', 'HulaHoop', 'RopeClimbing']\n",
      "9 12 ['Swing', 'Lunges', 'HandstandWalking', 'RopeClimbing', 'MoppingFloor']\n",
      "12 15 ['Swing', 'Lunges', 'HandstandWalking', 'RopeClimbing', 'MoppingFloor']\n",
      "15 18 ['Swing', 'Lunges', 'HulaHoop', 'PizzaTossing', 'RopeClimbing']\n",
      "18 21 ['Swing', 'Lunges', 'HulaHoop', 'MoppingFloor', 'PizzaTossing']\n",
      "21 24 ['Swing', 'Lunges', 'RopeClimbing', 'MoppingFloor', 'BandMarching']\n",
      "24 27 ['Swing', 'Lunges', 'RopeClimbing', 'MoppingFloor', 'HandstandWalking']\n",
      "27 30 ['Swing', 'Lunges', 'MoppingFloor', 'HandstandWalking', 'Biking']\n",
      "30 33 ['Swing', 'Lunges', 'MoppingFloor', 'RopeClimbing', 'JumpingJack']\n",
      "########################################\n",
      "MVI_2150\n",
      "----------------------------------------\n"
     ]
    },
    {
     "data": {
      "application/vnd.jupyter.widget-view+json": {
       "model_id": "84a1ad766ee449ab95f868cdb2573a18"
      }
     },
     "metadata": {},
     "output_type": "display_data"
    },
    {
     "name": "stdout",
     "output_type": "stream",
     "text": [
      "0 3 ['Swing', 'HandstandWalking', 'Lunges', 'BabyCrawling', 'MoppingFloor']\n",
      "3 6 ['Swing', 'HandstandWalking', 'Lunges', 'MoppingFloor', 'PoleVault']\n",
      "6 9 ['Swing', 'HandstandWalking', 'Lunges', 'BabyCrawling', 'MoppingFloor']\n",
      "9 12 ['Swing', 'HandstandWalking', 'Lunges', 'BabyCrawling', 'MoppingFloor']\n",
      "12 15 ['Swing', 'MoppingFloor', 'HandstandWalking', 'Lunges', 'RopeClimbing']\n",
      "15 18 ['Swing', 'Lunges', 'RopeClimbing', 'HandstandWalking', 'PoleVault']\n",
      "18 21 ['Swing', 'HandstandWalking', 'Lunges', 'RopeClimbing', 'MoppingFloor']\n",
      "21 24 ['Swing', 'HandstandWalking', 'Lunges', 'JumpRope', 'SalsaSpin']\n",
      "24 27 ['Swing', 'Lunges', 'HandstandWalking', 'SalsaSpin', 'MoppingFloor']\n",
      "27 30 ['Swing', 'HandstandWalking', 'Lunges', 'BabyCrawling', 'BenchPress']\n",
      "30 33 ['Swing', 'HandstandWalking', 'Lunges', 'BabyCrawling', 'BenchPress']\n",
      "33 36 ['Swing', 'HandstandWalking', 'Lunges', 'BabyCrawling', 'BenchPress']\n",
      "36 39 ['Swing', 'HandstandWalking', 'Lunges', 'BabyCrawling', 'SalsaSpin']\n",
      "39 42 ['Swing', 'HandstandWalking', 'Lunges', 'BabyCrawling', 'SalsaSpin']\n",
      "########################################\n",
      "MVI_2163\n",
      "----------------------------------------\n"
     ]
    },
    {
     "data": {
      "application/vnd.jupyter.widget-view+json": {
       "model_id": "1f912c3b432a45d18f00a41432ae7279"
      }
     },
     "metadata": {},
     "output_type": "display_data"
    },
    {
     "name": "stdout",
     "output_type": "stream",
     "text": [
      "0 3 ['Lunges', 'Swing', 'HandstandWalking', 'MoppingFloor', 'Biking']\n",
      "3 6 ['Lunges', 'Swing', 'HandstandWalking', 'MoppingFloor', 'Biking']\n",
      "6 9 ['Swing', 'Lunges', 'HandstandWalking', 'MoppingFloor', 'Biking']\n",
      "9 12 ['Swing', 'Lunges', 'HandstandWalking', 'MoppingFloor', 'Biking']\n",
      "12 15 ['Swing', 'HandstandWalking', 'Lunges', 'MoppingFloor', 'Biking']\n",
      "15 18 ['Swing', 'Lunges', 'HandstandWalking', 'MoppingFloor', 'Biking']\n",
      "18 21 ['PoleVault', 'BenchPress', 'RopeClimbing', 'MoppingFloor', 'PushUps']\n",
      "21 24 ['PoleVault', 'BenchPress', 'RopeClimbing', 'MoppingFloor', 'BandMarching']\n",
      "24 27 ['BenchPress', 'PoleVault', 'MoppingFloor', 'RopeClimbing', 'PushUps']\n",
      "27 30 ['BenchPress', 'PoleVault', 'PushUps', 'RopeClimbing', 'MoppingFloor']\n",
      "30 33 ['BenchPress', 'PoleVault', 'RopeClimbing', 'BandMarching', 'HighJump']\n",
      "33 36 ['BenchPress', 'PoleVault', 'RopeClimbing', 'BandMarching', 'MoppingFloor']\n",
      "36 39 ['BenchPress', 'PoleVault', 'PushUps', 'HandstandWalking', 'RopeClimbing']\n",
      "39 42 ['BenchPress', 'PushUps', 'PoleVault', 'HandstandWalking', 'BabyCrawling']\n",
      "42 45 ['PushUps', 'HandstandWalking', 'BenchPress', 'CricketShot', 'BabyCrawling']\n",
      "45 48 ['PushUps', 'BenchPress', 'PoleVault', 'MoppingFloor', 'HandstandWalking']\n",
      "48 51 ['BenchPress', 'PoleVault', 'PushUps', 'HandstandWalking', 'Fencing']\n",
      "51 54 ['BenchPress', 'PoleVault', 'HandstandWalking', 'PushUps', 'MoppingFloor']\n",
      "54 57 ['PoleVault', 'BenchPress', 'HandstandWalking', 'MoppingFloor', 'RopeClimbing']\n",
      "57 60 ['PoleVault', 'RopeClimbing', 'MoppingFloor', 'PlayingDhol', 'PlayingSitar']\n",
      "60 63 ['Swing', 'HandstandWalking', 'Lunges', 'PizzaTossing', 'MoppingFloor']\n",
      "63 66 ['Swing', 'HandstandWalking', 'Lunges', 'PoleVault', 'MoppingFloor']\n",
      "66 69 ['Swing', 'Lunges', 'HandstandWalking', 'Biking', 'MoppingFloor']\n",
      "########################################\n",
      "MVI_2177\n",
      "----------------------------------------\n"
     ]
    },
    {
     "data": {
      "application/vnd.jupyter.widget-view+json": {
       "model_id": "541968a790af49c18822c325f8e64cf3"
      }
     },
     "metadata": {},
     "output_type": "display_data"
    },
    {
     "name": "stdout",
     "output_type": "stream",
     "text": [
      "0 3 ['Lunges', 'HandstandWalking', 'SkateBoarding', 'MoppingFloor', 'Swing']\n",
      "3 6 ['Lunges', 'HandstandWalking', 'BandMarching', 'Swing', 'SkateBoarding']\n",
      "6 9 ['Lunges', 'HandstandWalking', 'SkateBoarding', 'MoppingFloor', 'GolfSwing']\n",
      "9 12 ['Lunges', 'HandstandWalking', 'SkateBoarding', 'MoppingFloor', 'Swing']\n",
      "12 15 ['Lunges', 'SkateBoarding', 'BandMarching', 'Swing', 'Basketball']\n",
      "15 18 ['Lunges', 'Basketball', 'SkateBoarding', 'BandMarching', 'GolfSwing']\n",
      "18 21 ['Lunges', 'Basketball', 'SkateBoarding', 'BandMarching', 'GolfSwing']\n",
      "21 24 ['Lunges', 'Basketball', 'SkateBoarding', 'BandMarching', 'GolfSwing']\n",
      "24 27 ['Lunges', 'Basketball', 'GolfSwing', 'SkateBoarding', 'BandMarching']\n",
      "27 30 ['Basketball', 'Lunges', 'BandMarching', 'SkateBoarding', 'GolfSwing']\n",
      "########################################\n",
      "MVI_2165\n",
      "----------------------------------------\n"
     ]
    },
    {
     "data": {
      "application/vnd.jupyter.widget-view+json": {
       "model_id": "dfa0d80677594632b9e862e86b8ef02a"
      }
     },
     "metadata": {},
     "output_type": "display_data"
    },
    {
     "name": "stdout",
     "output_type": "stream",
     "text": [
      "0 3 ['Lunges', 'PizzaTossing', 'BodyWeightSquats', 'Drumming', 'Haircut']\n",
      "3 6 ['PizzaTossing', 'Lunges', 'BodyWeightSquats', 'Drumming', 'Haircut']\n",
      "6 9 ['Lunges', 'BodyWeightSquats', 'Drumming', 'RopeClimbing', 'WallPushups']\n",
      "9 12 ['Lunges', 'BodyWeightSquats', 'Drumming', 'BandMarching', 'RopeClimbing']\n",
      "12 15 ['Lunges', 'BodyWeightSquats', 'Drumming', 'MoppingFloor', 'WallPushups']\n",
      "15 18 ['Lunges', 'WallPushups', 'BodyWeightSquats', 'MoppingFloor', 'BenchPress']\n",
      "18 21 ['Lunges', 'BodyWeightSquats', 'BenchPress', 'Drumming', 'MoppingFloor']\n",
      "21 24 ['Lunges', 'BodyWeightSquats', 'BenchPress', 'BandMarching', 'PizzaTossing']\n",
      "24 27 ['Lunges', 'BodyWeightSquats', 'BenchPress', 'Drumming', 'BandMarching']\n",
      "27 30 ['Lunges', 'BodyWeightSquats', 'Drumming', 'BenchPress', 'BandMarching']\n",
      "30 33 ['Lunges', 'Drumming', 'BodyWeightSquats', 'PizzaTossing', 'BandMarching']\n",
      "33 36 ['Lunges', 'BodyWeightSquats', 'PizzaTossing', 'Drumming', 'MoppingFloor']\n",
      "36 39 ['Lunges', 'BodyWeightSquats', 'PizzaTossing', 'MoppingFloor', 'WallPushups']\n",
      "39 42 ['PizzaTossing', 'Lunges', 'BodyWeightSquats', 'Diving', 'Drumming']\n",
      "42 45 ['PizzaTossing', 'HandstandWalking', 'BodyWeightSquats', 'Diving', 'Lunges']\n",
      "45 48 ['PizzaTossing', 'HandstandWalking', 'BodyWeightSquats', 'Diving', 'MoppingFloor']\n",
      "48 51 ['PizzaTossing', 'HandstandWalking', 'MoppingFloor', 'BodyWeightSquats', 'Haircut']\n",
      "########################################\n",
      "MVI_2172\n",
      "----------------------------------------\n"
     ]
    },
    {
     "data": {
      "application/vnd.jupyter.widget-view+json": {
       "model_id": "bedf3a4a9d93423986bca7df0ae6de28"
      }
     },
     "metadata": {},
     "output_type": "display_data"
    },
    {
     "name": "stdout",
     "output_type": "stream",
     "text": [
      "0 3 ['Lunges', 'HandstandWalking', 'SkateBoarding', 'Swing', 'PizzaTossing']\n",
      "3 6 ['Lunges', 'HandstandWalking', 'Diving', 'SkateBoarding', 'Swing']\n",
      "6 9 ['Lunges', 'HandstandWalking', 'SkateBoarding', 'Swing', 'Diving']\n",
      "9 12 ['Lunges', 'HandstandWalking', 'Diving', 'SkateBoarding', 'Swing']\n",
      "12 15 ['Lunges', 'HandstandWalking', 'SkateBoarding', 'MoppingFloor', 'Swing']\n",
      "15 18 ['Lunges', 'BandMarching', 'HandstandWalking', 'Swing', 'MoppingFloor']\n",
      "18 21 ['Lunges', 'HandstandWalking', 'BandMarching', 'SkateBoarding', 'MoppingFloor']\n",
      "21 24 ['Lunges', 'HandstandWalking', 'SkateBoarding', 'MoppingFloor', 'BandMarching']\n",
      "24 27 ['Lunges', 'HandstandWalking', 'BandMarching', 'SkateBoarding', 'MoppingFloor']\n",
      "27 30 ['Lunges', 'BandMarching', 'HandstandWalking', 'MoppingFloor', 'SkateBoarding']\n",
      "########################################\n",
      "MVI_2149\n",
      "----------------------------------------\n"
     ]
    },
    {
     "data": {
      "application/vnd.jupyter.widget-view+json": {
       "model_id": "2461e7b5e0074092a761646661d253a2"
      }
     },
     "metadata": {},
     "output_type": "display_data"
    },
    {
     "name": "stdout",
     "output_type": "stream",
     "text": [
      "0 3 ['Swing', 'Lunges', 'HandstandWalking', 'MoppingFloor', 'RopeClimbing']\n",
      "3 6 ['Swing', 'HandstandWalking', 'Lunges', 'MoppingFloor', 'Biking']\n",
      "6 9 ['Swing', 'Lunges', 'HandstandWalking', 'MoppingFloor', 'SalsaSpin']\n",
      "9 12 ['Swing', 'HandstandWalking', 'Lunges', 'MoppingFloor', 'SalsaSpin']\n",
      "12 15 ['Swing', 'Lunges', 'HandstandWalking', 'SalsaSpin', 'MoppingFloor']\n",
      "15 18 ['Swing', 'Lunges', 'HandstandWalking', 'SalsaSpin', 'MoppingFloor']\n",
      "18 21 ['Swing', 'Lunges', 'HandstandWalking', 'BabyCrawling', 'MoppingFloor']\n",
      "21 24 ['Swing', 'Lunges', 'HandstandWalking', 'BabyCrawling', 'MoppingFloor']\n",
      "24 27 ['Swing', 'Lunges', 'HandstandWalking', 'BabyCrawling', 'MoppingFloor']\n",
      "27 30 ['Swing', 'HandstandWalking', 'Lunges', 'BabyCrawling', 'MoppingFloor']\n",
      "30 33 ['Swing', 'Lunges', 'HandstandWalking', 'BabyCrawling', 'MoppingFloor']\n",
      "33 36 ['Swing', 'Lunges', 'HandstandWalking', 'SalsaSpin', 'BabyCrawling']\n",
      "36 39 ['HandstandWalking', 'Swing', 'Lunges', 'SalsaSpin', 'MoppingFloor']\n",
      "########################################\n",
      "MVI_2175\n",
      "----------------------------------------\n"
     ]
    },
    {
     "data": {
      "application/vnd.jupyter.widget-view+json": {
       "model_id": "f569142ed88f4c90a9cde5e81d70d7ce"
      }
     },
     "metadata": {},
     "output_type": "display_data"
    },
    {
     "name": "stdout",
     "output_type": "stream",
     "text": [
      "0 3 ['Lunges', 'HandstandWalking', 'SkateBoarding', 'RopeClimbing', 'BandMarching']\n",
      "3 6 ['Lunges', 'HandstandWalking', 'SkateBoarding', 'Swing', 'MoppingFloor']\n",
      "6 9 ['Lunges', 'PizzaTossing', 'HandstandWalking', 'SkateBoarding', 'Swing']\n",
      "9 12 ['Lunges', 'SkateBoarding', 'HandstandWalking', 'BandMarching', 'MoppingFloor']\n",
      "12 15 ['Lunges', 'BandMarching', 'Swing', 'MoppingFloor', 'SkateBoarding']\n",
      "15 18 ['Lunges', 'SkateBoarding', 'BandMarching', 'Swing', 'PizzaTossing']\n",
      "18 21 ['Lunges', 'HandstandWalking', 'SkateBoarding', 'RopeClimbing', 'MoppingFloor']\n",
      "21 24 ['Lunges', 'HandstandWalking', 'SkateBoarding', 'MoppingFloor', 'Basketball']\n",
      "24 27 ['Lunges', 'SkateBoarding', 'HandstandWalking', 'Basketball', 'PizzaTossing']\n",
      "27 30 ['Lunges', 'SkateBoarding', 'HandstandWalking', 'BandMarching', 'PizzaTossing']\n",
      "30 33 ['Lunges', 'HandstandWalking', 'SkateBoarding', 'MoppingFloor', 'Biking']\n",
      "33 36 ['Lunges', 'HandstandWalking', 'SkateBoarding', 'Basketball', 'Swing']\n",
      "36 39 ['Lunges', 'HandstandWalking', 'SkateBoarding', 'Basketball', 'Swing']\n",
      "39 42 ['Lunges', 'SkateBoarding', 'HandstandWalking', 'Basketball', 'Swing']\n",
      "42 45 ['Lunges', 'HandstandWalking', 'SkateBoarding', 'Basketball', 'PizzaTossing']\n",
      "########################################\n",
      "MVI_2154\n",
      "----------------------------------------\n"
     ]
    },
    {
     "data": {
      "application/vnd.jupyter.widget-view+json": {
       "model_id": "054a4172ca1d4613b28a004b809bac7c"
      }
     },
     "metadata": {},
     "output_type": "display_data"
    },
    {
     "name": "stdout",
     "output_type": "stream",
     "text": [
      "0 3 ['Swing', 'HandstandWalking', 'Lunges', 'MoppingFloor', 'SalsaSpin']\n",
      "3 6 ['Swing', 'HandstandWalking', 'Lunges', 'MoppingFloor', 'CricketBowling']\n",
      "6 9 ['Swing', 'HandstandWalking', 'Lunges', 'MoppingFloor', 'BabyCrawling']\n",
      "9 12 ['Swing', 'HandstandWalking', 'Lunges', 'MoppingFloor', 'BabyCrawling']\n",
      "12 15 ['Swing', 'HandstandWalking', 'Lunges', 'MoppingFloor', 'BabyCrawling']\n",
      "15 18 ['Swing', 'HandstandWalking', 'Lunges', 'MoppingFloor', 'BabyCrawling']\n",
      "18 21 ['Swing', 'HandstandWalking', 'Lunges', 'MoppingFloor', 'BabyCrawling']\n",
      "21 24 ['Swing', 'HandstandWalking', 'Lunges', 'MoppingFloor', 'BabyCrawling']\n",
      "24 27 ['Swing', 'HandstandWalking', 'Lunges', 'MoppingFloor', 'BabyCrawling']\n",
      "27 30 ['Swing', 'HandstandWalking', 'Lunges', 'MoppingFloor', 'BabyCrawling']\n",
      "30 33 ['Swing', 'HandstandWalking', 'Lunges', 'MoppingFloor', 'BabyCrawling']\n",
      "33 36 ['Swing', 'HandstandWalking', 'Lunges', 'MoppingFloor', 'BabyCrawling']\n",
      "36 39 ['Swing', 'HandstandWalking', 'Lunges', 'MoppingFloor', 'BabyCrawling']\n",
      "39 42 ['Swing', 'HandstandWalking', 'Lunges', 'MoppingFloor', 'BabyCrawling']\n",
      "42 45 ['Swing', 'HandstandWalking', 'Lunges', 'MoppingFloor', 'BabyCrawling']\n",
      "45 48 ['Swing', 'HandstandWalking', 'Lunges', 'MoppingFloor', 'SalsaSpin']\n",
      "########################################\n",
      "MVI_2164\n",
      "----------------------------------------\n"
     ]
    },
    {
     "data": {
      "application/vnd.jupyter.widget-view+json": {
       "model_id": "74efc0f79f584f9c8792a74e5f3c1167"
      }
     },
     "metadata": {},
     "output_type": "display_data"
    },
    {
     "name": "stdout",
     "output_type": "stream",
     "text": [
      "0 3 ['Swing', 'HandstandWalking', 'Lunges', 'MoppingFloor', 'BabyCrawling']\n",
      "3 6 ['Swing', 'HandstandWalking', 'Lunges', 'BabyCrawling', 'MoppingFloor']\n",
      "6 9 ['Swing', 'HandstandWalking', 'Lunges', 'MoppingFloor', 'Biking']\n",
      "9 12 ['Swing', 'HandstandWalking', 'Lunges', 'MoppingFloor', 'BabyCrawling']\n",
      "12 15 ['Swing', 'HandstandWalking', 'Lunges', 'PoleVault', 'MoppingFloor']\n",
      "15 18 ['Swing', 'HandstandWalking', 'Lunges', 'MoppingFloor', 'Biking']\n",
      "18 21 ['Swing', 'HandstandWalking', 'Lunges', 'MoppingFloor', 'Diving']\n",
      "21 24 ['Lunges', 'Swing', 'HandstandWalking', 'MoppingFloor', 'Fencing']\n",
      "24 27 ['Swing', 'Lunges', 'HandstandWalking', 'BenchPress', 'Diving']\n",
      "27 30 ['Swing', 'Lunges', 'HandstandWalking', 'MoppingFloor', 'Archery']\n",
      "30 33 ['Swing', 'RopeClimbing', 'HandstandWalking', 'Diving', 'JumpRope']\n",
      "33 36 ['Lunges', 'Basketball', 'RopeClimbing', 'BandMarching', 'PizzaTossing']\n",
      "36 39 ['BenchPress', 'MoppingFloor', 'PoleVault', 'Drumming', 'RopeClimbing']\n",
      "39 42 ['BenchPress', 'PushUps', 'PoleVault', 'HandstandWalking', 'RopeClimbing']\n",
      "42 45 ['BenchPress', 'PushUps', 'PoleVault', 'RopeClimbing', 'HandstandWalking']\n",
      "45 48 ['BenchPress', 'PushUps', 'PoleVault', 'BabyCrawling', 'RopeClimbing']\n",
      "48 51 ['BenchPress', 'PushUps', 'PoleVault', 'RopeClimbing', 'BabyCrawling']\n",
      "51 54 ['BenchPress', 'PushUps', 'PoleVault', 'RopeClimbing', 'BabyCrawling']\n",
      "54 57 ['BenchPress', 'PushUps', 'PoleVault', 'RopeClimbing', 'HandstandWalking']\n",
      "57 60 ['BenchPress', 'PushUps', 'PoleVault', 'BabyCrawling', 'RopeClimbing']\n",
      "60 63 ['BenchPress', 'PushUps', 'PoleVault', 'BabyCrawling', 'RopeClimbing']\n",
      "63 66 ['PushUps', 'BenchPress', 'BabyCrawling', 'PoleVault', 'CleanAndJerk']\n",
      "########################################\n",
      "MVI_2173\n",
      "----------------------------------------\n"
     ]
    },
    {
     "data": {
      "application/vnd.jupyter.widget-view+json": {
       "model_id": "1e6dcafb31334ff9a9a6ce23b6f29b9c"
      }
     },
     "metadata": {},
     "output_type": "display_data"
    },
    {
     "name": "stdout",
     "output_type": "stream",
     "text": [
      "0 3 ['Lunges', 'BandMarching', 'Swing', 'SkateBoarding', 'HandstandWalking']\n",
      "3 6 ['Lunges', 'SkateBoarding', 'MoppingFloor', 'HandstandWalking', 'BandMarching']\n",
      "6 9 ['Lunges', 'HandstandWalking', 'SkateBoarding', 'PizzaTossing', 'MoppingFloor']\n",
      "9 12 ['Lunges', 'SkateBoarding', 'HandstandWalking', 'Basketball', 'PizzaTossing']\n",
      "12 15 ['Lunges', 'BandMarching', 'SkateBoarding', 'Basketball', 'Swing']\n",
      "15 18 ['Lunges', 'SkateBoarding', 'Basketball', 'Swing', 'BandMarching']\n",
      "18 21 ['Lunges', 'BandMarching', 'Swing', 'MoppingFloor', 'HandstandWalking']\n",
      "21 24 ['Lunges', 'Basketball', 'Swing', 'BandMarching', 'SkateBoarding']\n",
      "24 27 ['Lunges', 'Swing', 'Basketball', 'SkateBoarding', 'MoppingFloor']\n",
      "27 30 ['Lunges', 'Swing', 'Basketball', 'SkateBoarding', 'PizzaTossing']\n",
      "30 33 ['Lunges', 'Basketball', 'SkateBoarding', 'Swing', 'MoppingFloor']\n",
      "33 36 ['Lunges', 'SkateBoarding', 'PizzaTossing', 'Swing', 'MoppingFloor']\n",
      "36 39 ['Lunges', 'Basketball', 'SkateBoarding', 'BandMarching', 'PizzaTossing']\n",
      "\n"
     ]
    }
   ],
   "source": [
    "rgb_frames_prefix = '/data/data/imitations_temp/rgb/'\n",
    "\n",
    "for video_name in tqdm_notebook(os.listdir(rgb_frames_prefix)):\n",
    "    video_path = os.path.join(rgb_frames_prefix, video_name)\n",
    "    frames = get_rgb_frames(video_path)\n",
    "    print('#' * 40)\n",
    "    print(video_name)\n",
    "    print('-' * 40)\n",
    "    preds = {}\n",
    "    for segment, start_time, end_time in tqdm_notebook(split_frames(frames), leave=False):\n",
    "        pred = [class_index[int(class_id)] for class_id in make_prediction_on_segment(segment)]\n",
    "        preds[(start_time, end_time)] = pred\n",
    "        \n",
    "        print(start_time, end_time, pred)"
   ]
  },
  {
   "cell_type": "code",
   "execution_count": 48,
   "metadata": {
    "ExecuteTime": {
     "end_time": "2017-09-12T17:08:39.422517Z",
     "start_time": "2017-09-12T17:08:39.419844Z"
    }
   },
   "outputs": [
    {
     "data": {
      "text/plain": [
       "{(0, 3): ['Swing',\n",
       "  'Lunges',\n",
       "  'HandstandWalking',\n",
       "  'MoppingFloor',\n",
       "  'RopeClimbing'],\n",
       " (3, 6): ['Swing', 'HandstandWalking', 'Lunges', 'MoppingFloor', 'Biking'],\n",
       " (6, 9): ['Swing', 'Lunges', 'HandstandWalking', 'MoppingFloor', 'SalsaSpin'],\n",
       " (9, 12): ['Swing', 'HandstandWalking', 'Lunges', 'MoppingFloor', 'SalsaSpin'],\n",
       " (12, 15): ['Swing',\n",
       "  'Lunges',\n",
       "  'HandstandWalking',\n",
       "  'SalsaSpin',\n",
       "  'MoppingFloor'],\n",
       " (15, 18): ['Swing',\n",
       "  'Lunges',\n",
       "  'HandstandWalking',\n",
       "  'SalsaSpin',\n",
       "  'MoppingFloor'],\n",
       " (18, 21): ['Swing',\n",
       "  'Lunges',\n",
       "  'HandstandWalking',\n",
       "  'BabyCrawling',\n",
       "  'MoppingFloor'],\n",
       " (21, 24): ['Swing',\n",
       "  'Lunges',\n",
       "  'HandstandWalking',\n",
       "  'BabyCrawling',\n",
       "  'MoppingFloor'],\n",
       " (24, 27): ['Swing',\n",
       "  'Lunges',\n",
       "  'HandstandWalking',\n",
       "  'BabyCrawling',\n",
       "  'MoppingFloor'],\n",
       " (27, 30): ['Swing',\n",
       "  'HandstandWalking',\n",
       "  'Lunges',\n",
       "  'BabyCrawling',\n",
       "  'MoppingFloor'],\n",
       " (30, 33): ['Swing',\n",
       "  'Lunges',\n",
       "  'HandstandWalking',\n",
       "  'BabyCrawling',\n",
       "  'MoppingFloor'],\n",
       " (33, 36): ['Swing',\n",
       "  'Lunges',\n",
       "  'HandstandWalking',\n",
       "  'SalsaSpin',\n",
       "  'BabyCrawling'],\n",
       " (36, 39): ['HandstandWalking',\n",
       "  'Swing',\n",
       "  'Lunges',\n",
       "  'SalsaSpin',\n",
       "  'MoppingFloor']}"
      ]
     },
     "execution_count": 48,
     "metadata": {},
     "output_type": "execute_result"
    }
   ],
   "source": [
    "preds"
   ]
  },
  {
   "cell_type": "code",
   "execution_count": null,
   "metadata": {
    "collapsed": true
   },
   "outputs": [],
   "source": []
  }
 ],
 "metadata": {
  "kernelspec": {
   "display_name": "Python 3",
   "language": "python",
   "name": "python3"
  },
  "language_info": {
   "codemirror_mode": {
    "name": "ipython",
    "version": 3
   },
   "file_extension": ".py",
   "mimetype": "text/x-python",
   "name": "python",
   "nbconvert_exporter": "python",
   "pygments_lexer": "ipython3",
   "version": "3.5.2"
  }
 },
 "nbformat": 4,
 "nbformat_minor": 2
}
